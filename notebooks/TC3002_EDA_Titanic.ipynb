{
 "cells": [
  {
   "cell_type": "code",
   "execution_count": 2,
   "id": "4838b72c",
   "metadata": {},
   "outputs": [],
   "source": [
    "import numpy as np\n",
    "import pandas as pd\n",
    "import matplotlib.pyplot as plt\n",
    "import seaborn as sns\n",
    "import plotly.express as px\n",
    "import plotly.graph_objects as go"
   ]
  },
  {
   "cell_type": "code",
   "execution_count": 3,
   "id": "cf8dd779",
   "metadata": {},
   "outputs": [],
   "source": [
    "# Estilo y paleta \n",
    "\n",
    "sns.set_theme(style=\"whitegrid\")\n",
    "PALETTE = sns.color_palette(\"colorblind\")\n",
    "plt.rcParams.update({\n",
    "    \"figure.figsize\": (9, 5.2),\n",
    "    \"axes.titlesize\": 13,\n",
    "    \"axes.labelsize\": 11,\n",
    "    \"legend.fontsize\": 10,\n",
    "    \"xtick.labelsize\": 10,\n",
    "    \"ytick.labelsize\": 10\n",
    "})"
   ]
  },
  {
   "cell_type": "code",
   "execution_count": 4,
   "id": "ebc6c772",
   "metadata": {},
   "outputs": [
    {
     "data": {
      "text/html": [
       "<div>\n",
       "<style scoped>\n",
       "    .dataframe tbody tr th:only-of-type {\n",
       "        vertical-align: middle;\n",
       "    }\n",
       "\n",
       "    .dataframe tbody tr th {\n",
       "        vertical-align: top;\n",
       "    }\n",
       "\n",
       "    .dataframe thead th {\n",
       "        text-align: right;\n",
       "    }\n",
       "</style>\n",
       "<table border=\"1\" class=\"dataframe\">\n",
       "  <thead>\n",
       "    <tr style=\"text-align: right;\">\n",
       "      <th></th>\n",
       "      <th>PassengerId</th>\n",
       "      <th>Survived</th>\n",
       "      <th>Pclass</th>\n",
       "      <th>Name</th>\n",
       "      <th>Sex</th>\n",
       "      <th>Age</th>\n",
       "      <th>SibSp</th>\n",
       "      <th>Parch</th>\n",
       "      <th>Ticket</th>\n",
       "      <th>Fare</th>\n",
       "      <th>Cabin</th>\n",
       "      <th>Embarked</th>\n",
       "    </tr>\n",
       "  </thead>\n",
       "  <tbody>\n",
       "    <tr>\n",
       "      <th>0</th>\n",
       "      <td>1</td>\n",
       "      <td>0</td>\n",
       "      <td>3</td>\n",
       "      <td>Braund, Mr. Owen Harris</td>\n",
       "      <td>male</td>\n",
       "      <td>22.0</td>\n",
       "      <td>1</td>\n",
       "      <td>0</td>\n",
       "      <td>A/5 21171</td>\n",
       "      <td>7.2500</td>\n",
       "      <td>NaN</td>\n",
       "      <td>S</td>\n",
       "    </tr>\n",
       "    <tr>\n",
       "      <th>1</th>\n",
       "      <td>2</td>\n",
       "      <td>1</td>\n",
       "      <td>1</td>\n",
       "      <td>Cumings, Mrs. John Bradley (Florence Briggs Th...</td>\n",
       "      <td>female</td>\n",
       "      <td>38.0</td>\n",
       "      <td>1</td>\n",
       "      <td>0</td>\n",
       "      <td>PC 17599</td>\n",
       "      <td>71.2833</td>\n",
       "      <td>C85</td>\n",
       "      <td>C</td>\n",
       "    </tr>\n",
       "    <tr>\n",
       "      <th>2</th>\n",
       "      <td>3</td>\n",
       "      <td>1</td>\n",
       "      <td>3</td>\n",
       "      <td>Heikkinen, Miss. Laina</td>\n",
       "      <td>female</td>\n",
       "      <td>26.0</td>\n",
       "      <td>0</td>\n",
       "      <td>0</td>\n",
       "      <td>STON/O2. 3101282</td>\n",
       "      <td>7.9250</td>\n",
       "      <td>NaN</td>\n",
       "      <td>S</td>\n",
       "    </tr>\n",
       "    <tr>\n",
       "      <th>3</th>\n",
       "      <td>4</td>\n",
       "      <td>1</td>\n",
       "      <td>1</td>\n",
       "      <td>Futrelle, Mrs. Jacques Heath (Lily May Peel)</td>\n",
       "      <td>female</td>\n",
       "      <td>35.0</td>\n",
       "      <td>1</td>\n",
       "      <td>0</td>\n",
       "      <td>113803</td>\n",
       "      <td>53.1000</td>\n",
       "      <td>C123</td>\n",
       "      <td>S</td>\n",
       "    </tr>\n",
       "    <tr>\n",
       "      <th>4</th>\n",
       "      <td>5</td>\n",
       "      <td>0</td>\n",
       "      <td>3</td>\n",
       "      <td>Allen, Mr. William Henry</td>\n",
       "      <td>male</td>\n",
       "      <td>35.0</td>\n",
       "      <td>0</td>\n",
       "      <td>0</td>\n",
       "      <td>373450</td>\n",
       "      <td>8.0500</td>\n",
       "      <td>NaN</td>\n",
       "      <td>S</td>\n",
       "    </tr>\n",
       "  </tbody>\n",
       "</table>\n",
       "</div>"
      ],
      "text/plain": [
       "   PassengerId  Survived  Pclass  \\\n",
       "0            1         0       3   \n",
       "1            2         1       1   \n",
       "2            3         1       3   \n",
       "3            4         1       1   \n",
       "4            5         0       3   \n",
       "\n",
       "                                                Name     Sex   Age  SibSp  \\\n",
       "0                            Braund, Mr. Owen Harris    male  22.0      1   \n",
       "1  Cumings, Mrs. John Bradley (Florence Briggs Th...  female  38.0      1   \n",
       "2                             Heikkinen, Miss. Laina  female  26.0      0   \n",
       "3       Futrelle, Mrs. Jacques Heath (Lily May Peel)  female  35.0      1   \n",
       "4                           Allen, Mr. William Henry    male  35.0      0   \n",
       "\n",
       "   Parch            Ticket     Fare Cabin Embarked  \n",
       "0      0         A/5 21171   7.2500   NaN        S  \n",
       "1      0          PC 17599  71.2833   C85        C  \n",
       "2      0  STON/O2. 3101282   7.9250   NaN        S  \n",
       "3      0            113803  53.1000  C123        S  \n",
       "4      0            373450   8.0500   NaN        S  "
      ]
     },
     "metadata": {},
     "output_type": "display_data"
    }
   ],
   "source": [
    "df = pd.read_csv(\"C:/Users/luigu/OneDrive/Escritorio/Titanic ML Project/data/Titanic-Dataset.csv\")\n",
    "display(df.head())"
   ]
  },
  {
   "cell_type": "markdown",
   "id": "9476d27a",
   "metadata": {},
   "source": [
    "## 1.1 ANÁLISIS DE ESTRUCTURA Y CALIDAD"
   ]
  },
  {
   "cell_type": "code",
   "execution_count": 5,
   "id": "610358ec",
   "metadata": {},
   "outputs": [
    {
     "name": "stdout",
     "output_type": "stream",
     "text": [
      "<class 'pandas.core.frame.DataFrame'>\n",
      "RangeIndex: 891 entries, 0 to 890\n",
      "Data columns (total 12 columns):\n",
      " #   Column       Non-Null Count  Dtype  \n",
      "---  ------       --------------  -----  \n",
      " 0   PassengerId  891 non-null    int64  \n",
      " 1   Survived     891 non-null    int64  \n",
      " 2   Pclass       891 non-null    int64  \n",
      " 3   Name         891 non-null    object \n",
      " 4   Sex          891 non-null    object \n",
      " 5   Age          714 non-null    float64\n",
      " 6   SibSp        891 non-null    int64  \n",
      " 7   Parch        891 non-null    int64  \n",
      " 8   Ticket       891 non-null    object \n",
      " 9   Fare         891 non-null    float64\n",
      " 10  Cabin        204 non-null    object \n",
      " 11  Embarked     889 non-null    object \n",
      "dtypes: float64(2), int64(5), object(5)\n",
      "memory usage: 83.7+ KB\n",
      "None\n"
     ]
    }
   ],
   "source": [
    "# Información general del dataset\n",
    "\n",
    "print(df.info())"
   ]
  },
  {
   "cell_type": "code",
   "execution_count": 6,
   "id": "1c0cb1ef",
   "metadata": {},
   "outputs": [
    {
     "name": "stdout",
     "output_type": "stream",
     "text": [
      "Valores faltantes por columna:\n",
      "\n",
      "             faltantes  porcentaje\n",
      "Cabin              687   77.104377\n",
      "Age                177   19.865320\n",
      "Embarked             2    0.224467\n",
      "PassengerId          0    0.000000\n",
      "Name                 0    0.000000\n",
      "Pclass               0    0.000000\n",
      "Survived             0    0.000000\n",
      "Sex                  0    0.000000\n",
      "Parch                0    0.000000\n",
      "SibSp                0    0.000000\n",
      "Fare                 0    0.000000\n",
      "Ticket               0    0.000000\n"
     ]
    }
   ],
   "source": [
    "# Valores faltantes por columna\n",
    "\n",
    "missing_counts = df.isnull().sum()\n",
    "total_rows = len(df)\n",
    "missing_percent = (missing_counts / total_rows) * 100\n",
    "\n",
    "missing_df = (\n",
    "    pd.DataFrame({\n",
    "        \"faltantes\": missing_counts,\n",
    "        \"porcentaje\": missing_percent\n",
    "    })\n",
    "    .sort_values(by=\"porcentaje\", ascending=False)\n",
    ")\n",
    "\n",
    "print(\"Valores faltantes por columna:\\n\")\n",
    "print(missing_df)"
   ]
  },
  {
   "cell_type": "code",
   "execution_count": 7,
   "id": "d47865d3",
   "metadata": {},
   "outputs": [
    {
     "name": "stdout",
     "output_type": "stream",
     "text": [
      "Duplicados: 0\n"
     ]
    }
   ],
   "source": [
    "# Buscar duplicados\n",
    "\n",
    "num_duplicados = df.duplicated().sum()\n",
    "print(\"Duplicados:\", num_duplicados)"
   ]
  },
  {
   "cell_type": "code",
   "execution_count": 8,
   "id": "4219c708",
   "metadata": {},
   "outputs": [
    {
     "name": "stdout",
     "output_type": "stream",
     "text": [
      "Posibles outliers por variable numérica:\n",
      "\n",
      "PassengerId: 0\n",
      "Survived: 0\n",
      "Pclass: 0\n",
      "Age: 11\n",
      "SibSp: 46\n",
      "Parch: 213\n",
      "Fare: 116\n"
     ]
    }
   ],
   "source": [
    "# Detectar outliers\n",
    "\n",
    "def detectar_outliers(col):\n",
    "    Q1 = df[col].quantile(0.25)\n",
    "    Q3 = df[col].quantile(0.75)\n",
    "    IQR = Q3 - Q1\n",
    "    limite_inferior = Q1 - 1.5 * IQR\n",
    "    limite_superior = Q3 + 1.5 * IQR\n",
    "    outliers = df[(df[col] < limite_inferior) | (df[col] > limite_superior)]\n",
    "    return outliers.shape[0]\n",
    "\n",
    "print(\"Posibles outliers por variable numérica:\\n\")\n",
    "for col in df.select_dtypes(include=[np.number]).columns:\n",
    "    print(f\"{col}: {detectar_outliers(col)}\")"
   ]
  },
  {
   "cell_type": "markdown",
   "id": "68d5bf44",
   "metadata": {},
   "source": [
    "## 1.2 Estadística Descriptiva"
   ]
  },
  {
   "cell_type": "code",
   "execution_count": 9,
   "id": "00dcd057",
   "metadata": {},
   "outputs": [
    {
     "name": "stdout",
     "output_type": "stream",
     "text": [
      "Estadísticas descriptivas de variables numéricas\n"
     ]
    },
    {
     "data": {
      "text/html": [
       "<div>\n",
       "<style scoped>\n",
       "    .dataframe tbody tr th:only-of-type {\n",
       "        vertical-align: middle;\n",
       "    }\n",
       "\n",
       "    .dataframe tbody tr th {\n",
       "        vertical-align: top;\n",
       "    }\n",
       "\n",
       "    .dataframe thead th {\n",
       "        text-align: right;\n",
       "    }\n",
       "</style>\n",
       "<table border=\"1\" class=\"dataframe\">\n",
       "  <thead>\n",
       "    <tr style=\"text-align: right;\">\n",
       "      <th></th>\n",
       "      <th>count</th>\n",
       "      <th>mean</th>\n",
       "      <th>std</th>\n",
       "      <th>min</th>\n",
       "      <th>25%</th>\n",
       "      <th>50%</th>\n",
       "      <th>75%</th>\n",
       "      <th>max</th>\n",
       "    </tr>\n",
       "  </thead>\n",
       "  <tbody>\n",
       "    <tr>\n",
       "      <th>PassengerId</th>\n",
       "      <td>891.0</td>\n",
       "      <td>446.000000</td>\n",
       "      <td>257.353842</td>\n",
       "      <td>1.00</td>\n",
       "      <td>223.5000</td>\n",
       "      <td>446.0000</td>\n",
       "      <td>668.5</td>\n",
       "      <td>891.0000</td>\n",
       "    </tr>\n",
       "    <tr>\n",
       "      <th>Survived</th>\n",
       "      <td>891.0</td>\n",
       "      <td>0.383838</td>\n",
       "      <td>0.486592</td>\n",
       "      <td>0.00</td>\n",
       "      <td>0.0000</td>\n",
       "      <td>0.0000</td>\n",
       "      <td>1.0</td>\n",
       "      <td>1.0000</td>\n",
       "    </tr>\n",
       "    <tr>\n",
       "      <th>Pclass</th>\n",
       "      <td>891.0</td>\n",
       "      <td>2.308642</td>\n",
       "      <td>0.836071</td>\n",
       "      <td>1.00</td>\n",
       "      <td>2.0000</td>\n",
       "      <td>3.0000</td>\n",
       "      <td>3.0</td>\n",
       "      <td>3.0000</td>\n",
       "    </tr>\n",
       "    <tr>\n",
       "      <th>Age</th>\n",
       "      <td>714.0</td>\n",
       "      <td>29.699118</td>\n",
       "      <td>14.526497</td>\n",
       "      <td>0.42</td>\n",
       "      <td>20.1250</td>\n",
       "      <td>28.0000</td>\n",
       "      <td>38.0</td>\n",
       "      <td>80.0000</td>\n",
       "    </tr>\n",
       "    <tr>\n",
       "      <th>SibSp</th>\n",
       "      <td>891.0</td>\n",
       "      <td>0.523008</td>\n",
       "      <td>1.102743</td>\n",
       "      <td>0.00</td>\n",
       "      <td>0.0000</td>\n",
       "      <td>0.0000</td>\n",
       "      <td>1.0</td>\n",
       "      <td>8.0000</td>\n",
       "    </tr>\n",
       "    <tr>\n",
       "      <th>Parch</th>\n",
       "      <td>891.0</td>\n",
       "      <td>0.381594</td>\n",
       "      <td>0.806057</td>\n",
       "      <td>0.00</td>\n",
       "      <td>0.0000</td>\n",
       "      <td>0.0000</td>\n",
       "      <td>0.0</td>\n",
       "      <td>6.0000</td>\n",
       "    </tr>\n",
       "    <tr>\n",
       "      <th>Fare</th>\n",
       "      <td>891.0</td>\n",
       "      <td>32.204208</td>\n",
       "      <td>49.693429</td>\n",
       "      <td>0.00</td>\n",
       "      <td>7.9104</td>\n",
       "      <td>14.4542</td>\n",
       "      <td>31.0</td>\n",
       "      <td>512.3292</td>\n",
       "    </tr>\n",
       "  </tbody>\n",
       "</table>\n",
       "</div>"
      ],
      "text/plain": [
       "             count        mean         std   min       25%       50%    75%  \\\n",
       "PassengerId  891.0  446.000000  257.353842  1.00  223.5000  446.0000  668.5   \n",
       "Survived     891.0    0.383838    0.486592  0.00    0.0000    0.0000    1.0   \n",
       "Pclass       891.0    2.308642    0.836071  1.00    2.0000    3.0000    3.0   \n",
       "Age          714.0   29.699118   14.526497  0.42   20.1250   28.0000   38.0   \n",
       "SibSp        891.0    0.523008    1.102743  0.00    0.0000    0.0000    1.0   \n",
       "Parch        891.0    0.381594    0.806057  0.00    0.0000    0.0000    0.0   \n",
       "Fare         891.0   32.204208   49.693429  0.00    7.9104   14.4542   31.0   \n",
       "\n",
       "                  max  \n",
       "PassengerId  891.0000  \n",
       "Survived       1.0000  \n",
       "Pclass         3.0000  \n",
       "Age           80.0000  \n",
       "SibSp          8.0000  \n",
       "Parch          6.0000  \n",
       "Fare         512.3292  "
      ]
     },
     "metadata": {},
     "output_type": "display_data"
    }
   ],
   "source": [
    "# Medidas de tendencia central y dispersión\n",
    "\n",
    "print(\"Estadísticas descriptivas de variables numéricas\")\n",
    "display(df.describe().T)"
   ]
  },
  {
   "cell_type": "code",
   "execution_count": 10,
   "id": "cdf26316",
   "metadata": {},
   "outputs": [
    {
     "data": {
      "text/plain": [
       "Sex\n",
       "male      577\n",
       "female    314\n",
       "Name: count, dtype: int64"
      ]
     },
     "metadata": {},
     "output_type": "display_data"
    },
    {
     "data": {
      "text/plain": [
       "Ticket\n",
       "347082              7\n",
       "1601                7\n",
       "CA. 2343            7\n",
       "3101295             6\n",
       "CA 2144             6\n",
       "                   ..\n",
       "PC 17590            1\n",
       "17463               1\n",
       "330877              1\n",
       "373450              1\n",
       "STON/O2. 3101282    1\n",
       "Name: count, Length: 681, dtype: int64"
      ]
     },
     "metadata": {},
     "output_type": "display_data"
    },
    {
     "data": {
      "text/plain": [
       "Cabin\n",
       "G6             4\n",
       "C23 C25 C27    4\n",
       "B96 B98        4\n",
       "F2             3\n",
       "D              3\n",
       "              ..\n",
       "E17            1\n",
       "A24            1\n",
       "C50            1\n",
       "B42            1\n",
       "C148           1\n",
       "Name: count, Length: 147, dtype: int64"
      ]
     },
     "metadata": {},
     "output_type": "display_data"
    },
    {
     "data": {
      "text/plain": [
       "Embarked\n",
       "S    644\n",
       "C    168\n",
       "Q     77\n",
       "Name: count, dtype: int64"
      ]
     },
     "metadata": {},
     "output_type": "display_data"
    },
    {
     "data": {
      "text/plain": [
       "Title\n",
       "Mr              517\n",
       "Miss            182\n",
       "Mrs             125\n",
       "Master           40\n",
       "Dr                7\n",
       "Rev               6\n",
       "Col               2\n",
       "Mlle              2\n",
       "Major             2\n",
       "Ms                1\n",
       "Mme               1\n",
       "Don               1\n",
       "Lady              1\n",
       "Sir               1\n",
       "Capt              1\n",
       "the Countess      1\n",
       "Jonkheer          1\n",
       "Name: count, dtype: int64"
      ]
     },
     "metadata": {},
     "output_type": "display_data"
    }
   ],
   "source": [
    "# Tablas de frecuencia para variables categóricas\n",
    "\n",
    "df['Title'] = df['Name'].str.extract(r',\\s*([^\\.]*)\\.', expand=False).str.strip()\n",
    "\n",
    "for col in df.select_dtypes(include=['object']).columns:\n",
    "    if col != \"Name\":\n",
    "        display(df[col].value_counts())"
   ]
  },
  {
   "cell_type": "code",
   "execution_count": 11,
   "id": "48c0fb02",
   "metadata": {},
   "outputs": [
    {
     "name": "stdout",
     "output_type": "stream",
     "text": [
      "Tasa de supervivencia general\n",
      "\n",
      "Survived\n",
      "0    0.616162\n",
      "1    0.383838\n",
      "Name: proportion, dtype: float64\n"
     ]
    }
   ],
   "source": [
    "# Análisis de la variable objetivo (Supervivencia)\n",
    "\n",
    "print(\"Tasa de supervivencia general\\n\")\n",
    "print(df['Survived'].value_counts(normalize=True))"
   ]
  },
  {
   "cell_type": "code",
   "execution_count": 12,
   "id": "e16ee949",
   "metadata": {},
   "outputs": [
    {
     "name": "stdout",
     "output_type": "stream",
     "text": [
      "Supervivencia por clase\n"
     ]
    },
    {
     "data": {
      "text/plain": [
       "Pclass\n",
       "1    0.629630\n",
       "2    0.472826\n",
       "3    0.242363\n",
       "Name: Survived, dtype: float64"
      ]
     },
     "metadata": {},
     "output_type": "display_data"
    },
    {
     "name": "stdout",
     "output_type": "stream",
     "text": [
      "Supervivencia por género\n"
     ]
    },
    {
     "data": {
      "text/plain": [
       "Sex\n",
       "female    0.742038\n",
       "male      0.188908\n",
       "Name: Survived, dtype: float64"
      ]
     },
     "metadata": {},
     "output_type": "display_data"
    },
    {
     "name": "stdout",
     "output_type": "stream",
     "text": [
      "Supervivencia por rangos de edad\n"
     ]
    },
    {
     "name": "stderr",
     "output_type": "stream",
     "text": [
      "C:\\Users\\luigu\\AppData\\Local\\Temp\\ipykernel_35560\\305035867.py:12: FutureWarning: The default of observed=False is deprecated and will be changed to True in a future version of pandas. Pass observed=False to retain current behavior or observed=True to adopt the future default and silence this warning.\n",
      "  display(df.groupby(\"AgeGroup\")[\"Survived\"].mean())\n"
     ]
    },
    {
     "data": {
      "text/plain": [
       "AgeGroup\n",
       "Niños           0.579710\n",
       "Adolescentes    0.428571\n",
       "Jóvenes         0.355556\n",
       "Adultos         0.423237\n",
       "Mayores         0.343750\n",
       "Name: Survived, dtype: float64"
      ]
     },
     "metadata": {},
     "output_type": "display_data"
    }
   ],
   "source": [
    "# Estadísticas agrupadas por clase, género y edad\n",
    "\n",
    "df['AgeGroup'] = pd.cut(df['Age'], bins=[0,12,18,30,50,80], labels=[\"Niños\",\"Adolescentes\",\"Jóvenes\",\"Adultos\",\"Mayores\"])\n",
    "\n",
    "print(\"Supervivencia por clase\")\n",
    "display(df.groupby(\"Pclass\")[\"Survived\"].mean())\n",
    "\n",
    "print(\"Supervivencia por género\")\n",
    "display(df.groupby(\"Sex\")[\"Survived\"].mean())\n",
    "\n",
    "print(\"Supervivencia por rangos de edad\")\n",
    "display(df.groupby(\"AgeGroup\")[\"Survived\"].mean())"
   ]
  },
  {
   "cell_type": "markdown",
   "id": "613b17ef",
   "metadata": {},
   "source": [
    "## 1.3 Visualización Univariada"
   ]
  },
  {
   "cell_type": "code",
   "execution_count": 13,
   "id": "e8fb3a1a",
   "metadata": {},
   "outputs": [
    {
     "data": {
      "image/png": "[encoded data removed]",
      "text/plain": [
       "<Figure size 700x400 with 1 Axes>"
      ]
     },
     "metadata": {},
     "output_type": "display_data"
    }
   ],
   "source": [
    "# Edad\n",
    "\n",
    "plt.figure(figsize=(7,4))\n",
    "sns.histplot(df['Age'].dropna(), kde=True, bins=30, color=PALETTE[0], edgecolor=\"white\")\n",
    "plt.title(\"Distribución de la Edad de los Pasajeros\")\n",
    "plt.xlabel(\"Edad (años)\")\n",
    "plt.ylabel(\"Frecuencia\")\n",
    "mediana = df['Age'].median()\n",
    "plt.axvline(mediana, ls=\"--\", color=\"black\")\n",
    "plt.text(mediana, plt.ylim()[1]*0.9, f\"Mediana≈{mediana:.1f}\", ha=\"right\")\n",
    "plt.tight_layout()"
   ]
  },
  {
   "cell_type": "code",
   "execution_count": 14,
   "id": "e62346a5",
   "metadata": {},
   "outputs": [
    {
     "data": {
      "image/png": "[encoded data removed]",
      "text/plain": [
       "<Figure size 1200x500 with 1 Axes>"
      ]
     },
     "metadata": {},
     "output_type": "display_data"
    }
   ],
   "source": [
    "# Tarifa\n",
    "\n",
    "plt.figure(figsize=(12,5))\n",
    "plt.subplot(1,2,1)\n",
    "sns.histplot(df['Fare'].dropna(), bins=40, kde=True, color=PALETTE[1], edgecolor=\"white\")\n",
    "plt.title(\"Distribución de la Tarifa (Escala Lineal)\")\n",
    "plt.xlabel(\"Tarifa (£)\")\n",
    "plt.ylabel(\"Frecuencia\")\n",
    "mediana = df['Fare'].median()\n",
    "plt.axvline(mediana, ls=\"--\", color=\"black\")\n",
    "plt.text(mediana, plt.ylim()[1]*0.9, f\"Mediana≈{mediana:.1f}\", ha=\"right\")\n",
    "plt.tight_layout()\n"
   ]
  },
  {
   "cell_type": "code",
   "execution_count": 15,
   "id": "0b5e114c",
   "metadata": {},
   "outputs": [
    {
     "name": "stderr",
     "output_type": "stream",
     "text": [
      "C:\\Users\\luigu\\AppData\\Local\\Temp\\ipykernel_35560\\3504909420.py:3: FutureWarning: \n",
      "\n",
      "Passing `palette` without assigning `hue` is deprecated and will be removed in v0.14.0. Assign the `x` variable to `hue` and set `legend=False` for the same effect.\n",
      "\n",
      "  ax = sns.countplot(data=df, x=\"Sex\", palette=PALETTE)\n",
      "C:\\Users\\luigu\\AppData\\Local\\Temp\\ipykernel_35560\\3504909420.py:3: UserWarning: The palette list has more values (10) than needed (2), which may not be intended.\n",
      "  ax = sns.countplot(data=df, x=\"Sex\", palette=PALETTE)\n",
      "C:\\Users\\luigu\\AppData\\Local\\Temp\\ipykernel_35560\\3504909420.py:13: FutureWarning: \n",
      "\n",
      "Passing `palette` without assigning `hue` is deprecated and will be removed in v0.14.0. Assign the `x` variable to `hue` and set `legend=False` for the same effect.\n",
      "\n",
      "  ax = sns.countplot(data=df, x=\"Pclass\", palette=PALETTE)\n",
      "C:\\Users\\luigu\\AppData\\Local\\Temp\\ipykernel_35560\\3504909420.py:13: UserWarning: The palette list has more values (10) than needed (3), which may not be intended.\n",
      "  ax = sns.countplot(data=df, x=\"Pclass\", palette=PALETTE)\n",
      "C:\\Users\\luigu\\AppData\\Local\\Temp\\ipykernel_35560\\3504909420.py:24: FutureWarning: \n",
      "\n",
      "Passing `palette` without assigning `hue` is deprecated and will be removed in v0.14.0. Assign the `x` variable to `hue` and set `legend=False` for the same effect.\n",
      "\n",
      "  ax = sns.countplot(data=df, x=\"Embarked\", palette=PALETTE)\n",
      "C:\\Users\\luigu\\AppData\\Local\\Temp\\ipykernel_35560\\3504909420.py:24: UserWarning: The palette list has more values (10) than needed (3), which may not be intended.\n",
      "  ax = sns.countplot(data=df, x=\"Embarked\", palette=PALETTE)\n"
     ]
    },
    {
     "data": {
      "image/png": "[encoded data removed]",
      "text/plain": [
       "<Figure size 600x400 with 1 Axes>"
      ]
     },
     "metadata": {},
     "output_type": "display_data"
    },
    {
     "data": {
      "image/png": "[encoded data removed]",
      "text/plain": [
       "<Figure size 600x400 with 1 Axes>"
      ]
     },
     "metadata": {},
     "output_type": "display_data"
    },
    {
     "data": {
      "image/png": "[encoded data removed]",
      "text/plain": [
       "<Figure size 600x400 with 1 Axes>"
      ]
     },
     "metadata": {},
     "output_type": "display_data"
    }
   ],
   "source": [
    "# Sexo\n",
    "plt.figure(figsize=(6,4))\n",
    "ax = sns.countplot(data=df, x=\"Sex\", palette=PALETTE)\n",
    "plt.title(\"Distribución de Pasajeros por Sexo\")\n",
    "plt.xlabel(\"Sexo\"); plt.ylabel(\"Número de Pasajeros\")\n",
    "for p in ax.patches:\n",
    "    ax.annotate(f\"{int(p.get_height())}\", (p.get_x()+p.get_width()/2, p.get_height()),\n",
    "                ha=\"center\", va=\"bottom\", fontsize=10)\n",
    "plt.tight_layout()\n",
    "\n",
    "# Clase\n",
    "plt.figure(figsize=(6,4))\n",
    "ax = sns.countplot(data=df, x=\"Pclass\", palette=PALETTE)\n",
    "plt.title(\"Distribución de Pasajeros por Clase\")\n",
    "plt.xlabel(\"Clase (1=Alta,2=Media,3=Baja)\"); plt.ylabel(\"Número de Pasajeros\")\n",
    "for p in ax.patches:\n",
    "    ax.annotate(f\"{int(p.get_height())}\", (p.get_x()+p.get_width()/2, p.get_height()),\n",
    "                ha=\"center\", va=\"bottom\", fontsize=10)\n",
    "plt.tight_layout()\n",
    "\n",
    "\n",
    "# Embarked\n",
    "plt.figure(figsize=(6,4))\n",
    "ax = sns.countplot(data=df, x=\"Embarked\", palette=PALETTE)\n",
    "plt.title(\"Distribución de Pasajeros por Puerto de Embarque\")\n",
    "plt.xlabel(\"Puerto\"); plt.ylabel(\"Número de Pasajeros\")\n",
    "for p in ax.patches:\n",
    "    ax.annotate(f\"{int(p.get_height())}\", (p.get_x()+p.get_width()/2, p.get_height()),\n",
    "                ha=\"center\", va=\"bottom\", fontsize=10)\n",
    "plt.tight_layout()"
   ]
  },
  {
   "cell_type": "code",
   "execution_count": 16,
   "id": "93bfc668",
   "metadata": {},
   "outputs": [
    {
     "data": {
      "image/png": "[encoded data removed]",
      "text/plain": [
       "<Figure size 500x400 with 1 Axes>"
      ]
     },
     "metadata": {},
     "output_type": "display_data"
    },
    {
     "data": {
      "image/png": "[encoded data removed]",
      "text/plain": [
       "<Figure size 500x400 with 1 Axes>"
      ]
     },
     "metadata": {},
     "output_type": "display_data"
    }
   ],
   "source": [
    "# Box Edad\n",
    "plt.figure(figsize=(5,4))\n",
    "sns.boxplot(y=df['Age'], color=PALETTE[2])\n",
    "plt.title(\"Boxplot de Edad\")\n",
    "plt.ylabel(\"Edad (años)\")\n",
    "plt.tight_layout(); plt.show()\n",
    "\n",
    "# Box Tarifa\n",
    "plt.figure(figsize=(5,4))\n",
    "sns.boxplot(y=df['Fare'], color=PALETTE[3])\n",
    "plt.title(\"Boxplot de Tarifa\")\n",
    "plt.ylabel(\"Tarifa (£)\")\n",
    "plt.tight_layout(); plt.show()"
   ]
  },
  {
   "cell_type": "markdown",
   "id": "1d05059f",
   "metadata": {},
   "source": [
    "## 1.4 Análisis Bivariado y Multivariado"
   ]
  },
  {
   "cell_type": "code",
   "execution_count": 17,
   "id": "6bfc5f4e",
   "metadata": {},
   "outputs": [
    {
     "name": "stderr",
     "output_type": "stream",
     "text": [
      "C:\\Users\\luigu\\AppData\\Local\\Temp\\ipykernel_35560\\3595570284.py:4: FutureWarning: \n",
      "\n",
      "Passing `palette` without assigning `hue` is deprecated and will be removed in v0.14.0. Assign the `x` variable to `hue` and set `legend=False` for the same effect.\n",
      "\n",
      "  ax = sns.barplot(data=df, x=\"Sex\", y=\"Survived\", palette=PALETTE, errorbar=None)\n",
      "C:\\Users\\luigu\\AppData\\Local\\Temp\\ipykernel_35560\\3595570284.py:4: UserWarning: The palette list has more values (10) than needed (2), which may not be intended.\n",
      "  ax = sns.barplot(data=df, x=\"Sex\", y=\"Survived\", palette=PALETTE, errorbar=None)\n"
     ]
    },
    {
     "data": {
      "image/png": "[encoded data removed]",
      "text/plain": [
       "<Figure size 600x400 with 1 Axes>"
      ]
     },
     "metadata": {},
     "output_type": "display_data"
    }
   ],
   "source": [
    "# Supervivencia por Género\n",
    "\n",
    "plt.figure(figsize=(6,4))\n",
    "ax = sns.barplot(data=df, x=\"Sex\", y=\"Survived\", palette=PALETTE, errorbar=None)\n",
    "plt.title(\"Tasa de Supervivencia por Género\")\n",
    "plt.xlabel(\"Sexo\"); plt.ylabel(\"Proporción que Sobrevive\")\n",
    "for p in ax.patches:\n",
    "    v = p.get_height()\n",
    "    if v > 0.01:\n",
    "        ax.annotate(f\"{v:.2f}\", (p.get_x()+p.get_width()/2, v),\n",
    "                    ha=\"center\", va=\"bottom\", fontsize=9)\n",
    "plt.ylim(0,1); plt.tight_layout()"
   ]
  },
  {
   "cell_type": "code",
   "execution_count": 18,
   "id": "2416ec3a",
   "metadata": {},
   "outputs": [
    {
     "name": "stderr",
     "output_type": "stream",
     "text": [
      "C:\\Users\\luigu\\AppData\\Local\\Temp\\ipykernel_35560\\3239623390.py:4: FutureWarning: \n",
      "\n",
      "Passing `palette` without assigning `hue` is deprecated and will be removed in v0.14.0. Assign the `x` variable to `hue` and set `legend=False` for the same effect.\n",
      "\n",
      "  ax = sns.barplot(data=df, x=\"Pclass\", y=\"Survived\", palette=PALETTE, errorbar=None)\n",
      "C:\\Users\\luigu\\AppData\\Local\\Temp\\ipykernel_35560\\3239623390.py:4: UserWarning: The palette list has more values (10) than needed (3), which may not be intended.\n",
      "  ax = sns.barplot(data=df, x=\"Pclass\", y=\"Survived\", palette=PALETTE, errorbar=None)\n"
     ]
    },
    {
     "data": {
      "image/png": "[encoded data removed]",
      "text/plain": [
       "<Figure size 600x400 with 1 Axes>"
      ]
     },
     "metadata": {},
     "output_type": "display_data"
    }
   ],
   "source": [
    "# Supervivencia por Clase\n",
    "\n",
    "plt.figure(figsize=(6,4))\n",
    "ax = sns.barplot(data=df, x=\"Pclass\", y=\"Survived\", palette=PALETTE, errorbar=None)\n",
    "plt.title(\"Tasa de Supervivencia por Clase\")\n",
    "plt.xlabel(\"Clase\"); plt.ylabel(\"Proporción que Sobrevive\")\n",
    "for p in ax.patches:\n",
    "    v = p.get_height()\n",
    "    if v > 0.01:\n",
    "        ax.annotate(f\"{v:.2f}\", (p.get_x()+p.get_width()/2, v),\n",
    "                    ha=\"center\", va=\"bottom\", fontsize=9)\n",
    "plt.ylim(0,1); plt.tight_layout()"
   ]
  },
  {
   "cell_type": "code",
   "execution_count": 19,
   "id": "94ac352c",
   "metadata": {},
   "outputs": [
    {
     "name": "stderr",
     "output_type": "stream",
     "text": [
      "C:\\Users\\luigu\\AppData\\Local\\Temp\\ipykernel_35560\\2220392174.py:4: UserWarning: The palette list has more values (10) than needed (2), which may not be intended.\n",
      "  ax = sns.barplot(data=df, x=\"Pclass\", y=\"Survived\", hue=\"Sex\", palette=PALETTE, errorbar=None)\n"
     ]
    },
    {
     "data": {
      "image/png": "[encoded data removed]",
      "text/plain": [
       "<Figure size 800x500 with 1 Axes>"
      ]
     },
     "metadata": {},
     "output_type": "display_data"
    }
   ],
   "source": [
    "# Supervivencia por Género y Clase\n",
    "\n",
    "plt.figure(figsize=(8,5))\n",
    "ax = sns.barplot(data=df, x=\"Pclass\", y=\"Survived\", hue=\"Sex\", palette=PALETTE, errorbar=None)\n",
    "plt.title(\"Tasa de Supervivencia por Clase y Sexo\")\n",
    "plt.xlabel(\"Clase\"); plt.ylabel(\"Proporción que Sobrevive\")\n",
    "for p in ax.patches:\n",
    "    v = p.get_height()\n",
    "    if v > 0.01:\n",
    "        ax.annotate(f\"{v:.2f}\", (p.get_x()+p.get_width()/2, v),\n",
    "                    ha=\"center\", va=\"bottom\", fontsize=8)\n",
    "plt.ylim(0,1); plt.legend(title=\"Sexo\"); plt.tight_layout()"
   ]
  },
  {
   "cell_type": "code",
   "execution_count": 20,
   "id": "67e1af74",
   "metadata": {},
   "outputs": [
    {
     "name": "stderr",
     "output_type": "stream",
     "text": [
      "C:\\Users\\luigu\\AppData\\Local\\Temp\\ipykernel_35560\\2124443162.py:4: FutureWarning: \n",
      "\n",
      "Passing `palette` without assigning `hue` is deprecated and will be removed in v0.14.0. Assign the `x` variable to `hue` and set `legend=False` for the same effect.\n",
      "\n",
      "  ax = sns.barplot(data=df, x=\"AgeGroup\", y=\"Survived\",\n",
      "C:\\Users\\luigu\\AppData\\Local\\Temp\\ipykernel_35560\\2124443162.py:4: UserWarning: The palette list has more values (10) than needed (5), which may not be intended.\n",
      "  ax = sns.barplot(data=df, x=\"AgeGroup\", y=\"Survived\",\n"
     ]
    },
    {
     "data": {
      "image/png": "[encoded data removed]",
      "text/plain": [
       "<Figure size 700x400 with 1 Axes>"
      ]
     },
     "metadata": {},
     "output_type": "display_data"
    }
   ],
   "source": [
    "# Supervivencia por grupos de edad\n",
    "\n",
    "plt.figure(figsize=(7,4))\n",
    "ax = sns.barplot(data=df, x=\"AgeGroup\", y=\"Survived\",\n",
    "                 order=[\"Niños\",\"Adolescentes\",\"Jóvenes\",\"Adultos\",\"Mayores\"],\n",
    "                 palette=PALETTE, errorbar=None)\n",
    "plt.title(\"Tasa de Supervivencia por Grupo de Edad\")\n",
    "plt.xlabel(\"Grupo de Edad\"); plt.ylabel(\"Proporción que Sobrevive\")\n",
    "for p in ax.patches:\n",
    "    v = p.get_height()\n",
    "    if v > 0.01:\n",
    "        ax.annotate(f\"{v:.2f}\", (p.get_x()+p.get_width()/2, v),\n",
    "                    ha=\"center\", va=\"bottom\", fontsize=9)\n",
    "plt.ylim(0,1); plt.tight_layout()"
   ]
  },
  {
   "cell_type": "code",
   "execution_count": 21,
   "id": "ae68c353",
   "metadata": {},
   "outputs": [
    {
     "name": "stderr",
     "output_type": "stream",
     "text": [
      "C:\\Users\\luigu\\AppData\\Local\\Temp\\ipykernel_35560\\2299457450.py:3: UserWarning: The palette list has more values (10) than needed (2), which may not be intended.\n",
      "  g = sns.catplot(data=df, x=\"Pclass\", y=\"Survived\", hue=\"Sex\", col=\"AgeGroup\",\n"
     ]
    },
    {
     "data": {
      "text/plain": [
       "<seaborn.axisgrid.FacetGrid at 0x201dd1130e0>"
      ]
     },
     "execution_count": 21,
     "metadata": {},
     "output_type": "execute_result"
    },
    {
     "data": {
      "image/png": "[encoded data removed]",
      "text/plain": [
       "<Figure size 1691.88x400 with 5 Axes>"
      ]
     },
     "metadata": {},
     "output_type": "display_data"
    }
   ],
   "source": [
    "# Segmentado por Grupo de Edad\n",
    "\n",
    "g = sns.catplot(data=df, x=\"Pclass\", y=\"Survived\", hue=\"Sex\", col=\"AgeGroup\",\n",
    "                kind=\"bar\", palette=PALETTE, errorbar=None, height=4, aspect=0.8)\n",
    "g.figure.subplots_adjust(top=0.8)\n",
    "g.figure.suptitle(\"Supervivencia por Clase y Sexo segmentado por Grupo de Edad\")\n",
    "g.set(ylim=(0,1))"
   ]
  },
  {
   "cell_type": "code",
   "execution_count": 22,
   "id": "e30bfba9",
   "metadata": {},
   "outputs": [
    {
     "data": {
      "image/png": "[encoded data removed]",
      "text/plain": [
       "<Figure size 800x600 with 2 Axes>"
      ]
     },
     "metadata": {},
     "output_type": "display_data"
    }
   ],
   "source": [
    "# Matriz de correlación\n",
    "\n",
    "plt.figure(figsize=(8,6))\n",
    "corr = df.corr(numeric_only=True)\n",
    "sns.heatmap(corr, annot=True, cmap=\"vlag\", fmt=\".2f\")\n",
    "plt.title(\"Matriz de Correlación entre Variables Numéricas\")\n",
    "plt.tight_layout()"
   ]
  },
  {
   "cell_type": "code",
   "execution_count": 23,
   "id": "8fbd0d7a",
   "metadata": {},
   "outputs": [
    {
     "name": "stderr",
     "output_type": "stream",
     "text": [
      "C:\\Users\\luigu\\AppData\\Local\\Temp\\ipykernel_35560\\3641510193.py:4: FutureWarning: \n",
      "\n",
      "Passing `palette` without assigning `hue` is deprecated and will be removed in v0.14.0. Assign the `x` variable to `hue` and set `legend=False` for the same effect.\n",
      "\n",
      "  ax = sns.barplot(data=df, x=\"Embarked\", y=\"Survived\", palette=PALETTE, errorbar=None)\n",
      "C:\\Users\\luigu\\AppData\\Local\\Temp\\ipykernel_35560\\3641510193.py:4: UserWarning: The palette list has more values (10) than needed (3), which may not be intended.\n",
      "  ax = sns.barplot(data=df, x=\"Embarked\", y=\"Survived\", palette=PALETTE, errorbar=None)\n"
     ]
    },
    {
     "data": {
      "image/png": "[encoded data removed]",
      "text/plain": [
       "<Figure size 600x400 with 1 Axes>"
      ]
     },
     "metadata": {},
     "output_type": "display_data"
    }
   ],
   "source": [
    "# Supervivencia por Puerto de Embarque\n",
    "\n",
    "plt.figure(figsize=(6,4))\n",
    "ax = sns.barplot(data=df, x=\"Embarked\", y=\"Survived\", palette=PALETTE, errorbar=None)\n",
    "plt.title(\"Tasa de Supervivencia por Puerto de Embarque\")\n",
    "plt.xlabel(\"Puerto\"); plt.ylabel(\"Proporción que Sobrevive\")\n",
    "for p in ax.patches:\n",
    "    v = p.get_height()\n",
    "    if v > 0.01:\n",
    "        ax.annotate(f\"{v:.2f}\", (p.get_x()+p.get_width()/2, v),\n",
    "                    ha=\"center\", va=\"bottom\", fontsize=9)\n",
    "plt.ylim(0,1); plt.tight_layout()"
   ]
  },
  {
   "cell_type": "code",
   "execution_count": 24,
   "id": "f641b0ad",
   "metadata": {},
   "outputs": [
    {
     "name": "stderr",
     "output_type": "stream",
     "text": [
      "C:\\Users\\luigu\\AppData\\Local\\Temp\\ipykernel_35560\\3680019705.py:4: FutureWarning: \n",
      "\n",
      "Passing `palette` without assigning `hue` is deprecated and will be removed in v0.14.0. Assign the `x` variable to `hue` and set `legend=False` for the same effect.\n",
      "\n",
      "  ax = sns.violinplot(data=df, x=\"Pclass\", y=\"Fare\", palette=PALETTE, cut=0, inner=\"box\")\n",
      "C:\\Users\\luigu\\AppData\\Local\\Temp\\ipykernel_35560\\3680019705.py:4: UserWarning: The palette list has more values (10) than needed (3), which may not be intended.\n",
      "  ax = sns.violinplot(data=df, x=\"Pclass\", y=\"Fare\", palette=PALETTE, cut=0, inner=\"box\")\n"
     ]
    },
    {
     "data": {
      "image/png": "[encoded data removed]",
      "text/plain": [
       "<Figure size 600x400 with 1 Axes>"
      ]
     },
     "metadata": {},
     "output_type": "display_data"
    }
   ],
   "source": [
    "# Tarifa por clase\n",
    "\n",
    "plt.figure(figsize=(6,4))\n",
    "ax = sns.violinplot(data=df, x=\"Pclass\", y=\"Fare\", palette=PALETTE, cut=0, inner=\"box\")\n",
    "ax.set_yscale(\"linear\")\n",
    "plt.title(\"Distribución de Tarifa por Clase\")\n",
    "plt.xlabel(\"Clase\"); plt.ylabel(\"Tarifa\")\n",
    "plt.tight_layout()"
   ]
  },
  {
   "cell_type": "code",
   "execution_count": 25,
   "id": "9af88c2a",
   "metadata": {},
   "outputs": [
    {
     "name": "stderr",
     "output_type": "stream",
     "text": [
      "C:\\Users\\luigu\\AppData\\Local\\Temp\\ipykernel_35560\\2204815583.py:5: FutureWarning: \n",
      "\n",
      "Passing `palette` without assigning `hue` is deprecated and will be removed in v0.14.0. Assign the `x` variable to `hue` and set `legend=False` for the same effect.\n",
      "\n",
      "  ax = sns.barplot(data=df, x=\"FamilySize\", y=\"Survived\", palette=PALETTE, errorbar=None)\n",
      "C:\\Users\\luigu\\AppData\\Local\\Temp\\ipykernel_35560\\2204815583.py:5: UserWarning: The palette list has more values (10) than needed (9), which may not be intended.\n",
      "  ax = sns.barplot(data=df, x=\"FamilySize\", y=\"Survived\", palette=PALETTE, errorbar=None)\n"
     ]
    },
    {
     "data": {
      "image/png": "[encoded data removed]",
      "text/plain": [
       "<Figure size 700x400 with 1 Axes>"
      ]
     },
     "metadata": {},
     "output_type": "display_data"
    }
   ],
   "source": [
    "# Supervivencia por tamaño de familia\n",
    "\n",
    "df['FamilySize'] = df['SibSp'] + df['Parch'] + 1\n",
    "plt.figure(figsize=(7,4))\n",
    "ax = sns.barplot(data=df, x=\"FamilySize\", y=\"Survived\", palette=PALETTE, errorbar=None)\n",
    "plt.title(\"Tasa de Supervivencia según Tamaño de Familia\")\n",
    "plt.xlabel(\"Tamaño de Familia\"); plt.ylabel(\"Proporción que Sobrevive\")\n",
    "for p in ax.patches:\n",
    "    v = p.get_height()\n",
    "    if v > 0.01:\n",
    "        ax.annotate(f\"{v:.2f}\", (p.get_x()+p.get_width()/2, v),\n",
    "                    ha=\"center\", va=\"bottom\", fontsize=9)\n",
    "plt.ylim(0,1); plt.tight_layout()"
   ]
  },
  {
   "cell_type": "code",
   "execution_count": 26,
   "id": "59991e0b",
   "metadata": {},
   "outputs": [
    {
     "data": {
      "image/png": "[encoded data removed]",
      "text/plain": [
       "<Figure size 600x400 with 1 Axes>"
      ]
     },
     "metadata": {},
     "output_type": "display_data"
    }
   ],
   "source": [
    "# Heatmap de relaciones categóricas \n",
    "\n",
    "plt.figure(figsize=(6,4))\n",
    "tabla = pd.crosstab(df['Pclass'], df['Embarked'])\n",
    "sns.heatmap(tabla, annot=True, fmt=\"d\", cmap=\"Blues\", cbar=False)\n",
    "plt.title(\"Frecuencia de Pasajeros por Clase y Puerto de Embarque\")\n",
    "plt.xlabel(\"Puerto\"); plt.ylabel(\"Clase\")\n",
    "plt.tight_layout()"
   ]
  },
  {
   "cell_type": "code",
   "execution_count": 27,
   "id": "d3259b16",
   "metadata": {},
   "outputs": [
    {
     "data": {
      "application/vnd.plotly.v1+json": {
       "config": {
        "plotlyServerURL": "https://plot.ly"
       },
       "data": [
        {
         "customdata": [
          [
           3,
           "S",
           "Mr"
          ],
          [
           3,
           "S",
           "Mr"
          ],
          [
           3,
           "Q",
           "Mr"
          ],
          [
           1,
           "S",
           "Mr"
          ],
          [
           3,
           "S",
           "Master"
          ],
          [
           3,
           "S",
           "Mr"
          ],
          [
           3,
           "S",
           "Mr"
          ],
          [
           3,
           "Q",
           "Master"
          ],
          [
           2,
           "S",
           "Mr"
          ],
          [
           3,
           "C",
           "Mr"
          ],
          [
           1,
           "S",
           "Mr"
          ],
          [
           3,
           "S",
           "Mr"
          ],
          [
           1,
           "C",
           "Don"
          ],
          [
           2,
           "S",
           "Mr"
          ],
          [
           1,
           "C",
           "Mr"
          ],
          [
           1,
           "S",
           "Mr"
          ],
          [
           3,
           "S",
           "Mr"
          ],
          [
           3,
           "C",
           "Mr"
          ],
          [
           3,
           "S",
           "Mr"
          ],
          [
           3,
           "Q",
           "Mr"
          ],
          [
           3,
           "C",
           "Mr"
          ],
          [
           3,
           "S",
           "Master"
          ],
          [
           3,
           "S",
           "Mr"
          ],
          [
           1,
           "C",
           "Mr"
          ],
          [
           3,
           "C",
           "Mr"
          ],
          [
           3,
           "S",
           "Master"
          ],
          [
           3,
           "C",
           "Mr"
          ],
          [
           1,
           "S",
           "Mr"
          ],
          [
           3,
           "S",
           "Master"
          ],
          [
           1,
           "C",
           "Mr"
          ],
          [
           3,
           "S",
           "Mr"
          ],
          [
           3,
           "S",
           "Mr"
          ],
          [
           2,
           "S",
           "Mr"
          ],
          [
           2,
           "S",
           "Mr"
          ],
          [
           3,
           "C",
           "Mr"
          ],
          [
           3,
           "S",
           "Mr"
          ],
          [
           3,
           "S",
           "Mr"
          ],
          [
           3,
           "S",
           "Mr"
          ],
          [
           3,
           "S",
           "Mr"
          ],
          [
           1,
           "S",
           "Mr"
          ],
          [
           3,
           "S",
           "Mr"
          ],
          [
           3,
           "S",
           "Mr"
          ],
          [
           3,
           "S",
           "Mr"
          ],
          [
           3,
           "S",
           "Mr"
          ],
          [
           3,
           "S",
           "Mr"
          ],
          [
           1,
           "S",
           "Mr"
          ],
          [
           3,
           "S",
           "Mr"
          ],
          [
           3,
           "S",
           "Mr"
          ],
          [
           3,
           "S",
           "Mr"
          ],
          [
           1,
           "C",
           "Mr"
          ],
          [
           2,
           "S",
           "Mr"
          ],
          [
           3,
           "S",
           "Mr"
          ],
          [
           1,
           "S",
           "Mr"
          ],
          [
           3,
           "S",
           "Mr"
          ],
          [
           3,
           "S",
           "Mr"
          ],
          [
           3,
           "S",
           "Mr"
          ],
          [
           3,
           "S",
           "Mr"
          ],
          [
           1,
           "S",
           "Mr"
          ],
          [
           3,
           "S",
           "Mr"
          ],
          [
           3,
           "S",
           "Mr"
          ],
          [
           3,
           "Q",
           "Mr"
          ],
          [
           2,
           "S",
           "Mr"
          ],
          [
           1,
           "C",
           "Mr"
          ],
          [
           2,
           "S",
           "Mr"
          ],
          [
           3,
           "S",
           "Mr"
          ],
          [
           2,
           "C",
           "Mr"
          ],
          [
           1,
           "S",
           "Mr"
          ],
          [
           3,
           "Q",
           "Mr"
          ],
          [
           3,
           "S",
           "Mr"
          ],
          [
           3,
           "C",
           "Mr"
          ],
          [
           3,
           "S",
           "Mr"
          ],
          [
           2,
           "S",
           "Mr"
          ],
          [
           2,
           "C",
           "Mr"
          ],
          [
           1,
           "S",
           "Mr"
          ],
          [
           3,
           "S",
           "Mr"
          ],
          [
           1,
           "C",
           "Mr"
          ],
          [
           3,
           "Q",
           "Mr"
          ],
          [
           2,
           "S",
           "Mr"
          ],
          [
           2,
           "S",
           "Mr"
          ],
          [
           2,
           "S",
           "Mr"
          ],
          [
           2,
           "S",
           "Rev"
          ],
          [
           2,
           "S",
           "Rev"
          ],
          [
           3,
           "S",
           "Mr"
          ],
          [
           3,
           "S",
           "Mr"
          ],
          [
           3,
           "S",
           "Mr"
          ],
          [
           1,
           "C",
           "Mr"
          ],
          [
           3,
           "S",
           "Mr"
          ],
          [
           3,
           "S",
           "Mr"
          ],
          [
           3,
           "S",
           "Master"
          ],
          [
           3,
           "S",
           "Mr"
          ],
          [
           3,
           "S",
           "Mr"
          ],
          [
           3,
           "S",
           "Mr"
          ],
          [
           3,
           "S",
           "Master"
          ],
          [
           1,
           "S",
           "Mr"
          ],
          [
           3,
           "S",
           "Mr"
          ],
          [
           1,
           "S",
           "Mr"
          ],
          [
           3,
           "Q",
           "Master"
          ],
          [
           3,
           "S",
           "Mr"
          ],
          [
           1,
           "C",
           "Mr"
          ],
          [
           3,
           "S",
           "Mr"
          ],
          [
           3,
           "S",
           "Master"
          ],
          [
           2,
           "S",
           "Mr"
          ],
          [
           3,
           "S",
           "Mr"
          ],
          [
           2,
           "C",
           "Mr"
          ],
          [
           3,
           "S",
           "Master"
          ],
          [
           1,
           "S",
           "Mr"
          ],
          [
           3,
           "Q",
           "Mr"
          ],
          [
           3,
           "S",
           "Mr"
          ],
          [
           2,
           "S",
           "Mr"
          ],
          [
           3,
           "Q",
           "Mr"
          ],
          [
           3,
           "S",
           "Mr"
          ],
          [
           3,
           "S",
           "Mr"
          ],
          [
           3,
           "S",
           "Mr"
          ],
          [
           3,
           "S",
           "Mr"
          ],
          [
           3,
           "C",
           "Mr"
          ],
          [
           3,
           "S",
           "Mr"
          ],
          [
           3,
           "S",
           "Mr"
          ],
          [
           3,
           "S",
           "Mr"
          ],
          [
           2,
           "S",
           "Mr"
          ],
          [
           3,
           "Q",
           "Mr"
          ],
          [
           2,
           "S",
           "Mr"
          ],
          [
           2,
           "S",
           "Mr"
          ],
          [
           2,
           "S",
           "Mr"
          ],
          [
           3,
           "S",
           "Mr"
          ],
          [
           3,
           "S",
           "Mr"
          ],
          [
           3,
           "S",
           "Mr"
          ],
          [
           3,
           "S",
           "Mr"
          ],
          [
           2,
           "S",
           "Mr"
          ],
          [
           3,
           "S",
           "Mr"
          ],
          [
           2,
           "S",
           "Mr"
          ],
          [
           2,
           "S",
           "Mr"
          ],
          [
           2,
           "S",
           "Mr"
          ],
          [
           2,
           "S",
           "Mr"
          ],
          [
           2,
           "S",
           "Mr"
          ],
          [
           2,
           "S",
           "Mr"
          ],
          [
           3,
           "S",
           "Mr"
          ],
          [
           3,
           "C",
           "Mr"
          ],
          [
           1,
           "Q",
           "Dr"
          ],
          [
           2,
           "S",
           "Rev"
          ],
          [
           3,
           "S",
           "Mr"
          ],
          [
           1,
           "S",
           "Mr"
          ],
          [
           3,
           "S",
           "Mr"
          ],
          [
           3,
           "Q",
           "Mr"
          ],
          [
           1,
           "S",
           "Mr"
          ],
          [
           1,
           "S",
           "Mr"
          ],
          [
           2,
           "S",
           "Mr"
          ],
          [
           3,
           "S",
           "Mr"
          ],
          [
           1,
           "S",
           "Mr"
          ],
          [
           1,
           "C",
           "Mr"
          ],
          [
           2,
           "S",
           "Mr"
          ],
          [
           3,
           "Q",
           "Master"
          ],
          [
           3,
           "Q",
           "Mr"
          ],
          [
           3,
           "S",
           "Mr"
          ],
          [
           3,
           "S",
           "Mr"
          ],
          [
           1,
           "S",
           "Mr"
          ],
          [
           3,
           "C",
           "Mr"
          ],
          [
           3,
           "S",
           "Mr"
          ],
          [
           2,
           "C",
           "Mr"
          ],
          [
           3,
           "S",
           "Mr"
          ],
          [
           1,
           "C",
           "Mr"
          ],
          [
           3,
           "C",
           "Mr"
          ],
          [
           3,
           "S",
           "Mr"
          ],
          [
           3,
           "S",
           "Mr"
          ],
          [
           2,
           "C",
           "Mr"
          ],
          [
           3,
           "S",
           "Mr"
          ],
          [
           2,
           "S",
           "Mr"
          ],
          [
           2,
           "S",
           "Dr"
          ],
          [
           3,
           "S",
           "Mr"
          ],
          [
           3,
           "S",
           "Mr"
          ],
          [
           3,
           "S",
           "Mr"
          ],
          [
           3,
           "S",
           "Mr"
          ],
          [
           1,
           "S",
           "Mr"
          ],
          [
           1,
           "S",
           "Mr"
          ],
          [
           3,
           "S",
           "Mr"
          ],
          [
           3,
           "S",
           "Mr"
          ],
          [
           1,
           "S",
           "Mr"
          ],
          [
           1,
           "S",
           "Mr"
          ],
          [
           2,
           "S",
           "Mr"
          ],
          [
           2,
           "S",
           "Mr"
          ],
          [
           2,
           "S",
           "Mr"
          ],
          [
           3,
           "S",
           "Mr"
          ],
          [
           3,
           "S",
           "Mr"
          ],
          [
           1,
           "S",
           "Mr"
          ],
          [
           3,
           "C",
           "Mr"
          ],
          [
           3,
           "S",
           "Mr"
          ],
          [
           3,
           "C",
           "Mr"
          ],
          [
           3,
           "S",
           "Mr"
          ],
          [
           3,
           "S",
           "Mr"
          ],
          [
           2,
           "C",
           "Mr"
          ],
          [
           3,
           "S",
           "Mr"
          ],
          [
           3,
           "Q",
           "Mr"
          ],
          [
           3,
           "S",
           "Mr"
          ],
          [
           3,
           "S",
           "Mr"
          ],
          [
           3,
           "S",
           "Mr"
          ],
          [
           1,
           "C",
           "Mr"
          ],
          [
           1,
           "C",
           "Mr"
          ],
          [
           3,
           "C",
           "Mr"
          ],
          [
           3,
           "S",
           "Mr"
          ],
          [
           3,
           "S",
           "Mr"
          ],
          [
           3,
           "S",
           "Mr"
          ],
          [
           2,
           "S",
           "Mr"
          ],
          [
           3,
           "S",
           "Master"
          ],
          [
           3,
           "Q",
           "Mr"
          ],
          [
           3,
           "S",
           "Mr"
          ],
          [
           3,
           "S",
           "Mr"
          ],
          [
           2,
           "S",
           "Mr"
          ],
          [
           2,
           "S",
           "Dr"
          ],
          [
           3,
           "S",
           "Mr"
          ],
          [
           3,
           "S",
           "Mr"
          ],
          [
           2,
           "S",
           "Mr"
          ],
          [
           3,
           "S",
           "Mr"
          ],
          [
           3,
           "S",
           "Mr"
          ],
          [
           3,
           "S",
           "Mr"
          ],
          [
           3,
           "Q",
           "Mr"
          ],
          [
           2,
           "S",
           "Mr"
          ],
          [
           2,
           "S",
           "Mr"
          ],
          [
           3,
           "C",
           "Mr"
          ],
          [
           3,
           "Q",
           "Mr"
          ],
          [
           3,
           "S",
           "Mr"
          ],
          [
           3,
           "S",
           "Mr"
          ],
          [
           3,
           "S",
           "Mr"
          ],
          [
           3,
           "Q",
           "Mr"
          ],
          [
           3,
           "S",
           "Mr"
          ],
          [
           1,
           "S",
           "Mr"
          ],
          [
           1,
           "S",
           "Mr"
          ],
          [
           2,
           "S",
           "Mr"
          ],
          [
           3,
           "S",
           "Mr"
          ],
          [
           3,
           "S",
           "Mr"
          ],
          [
           2,
           "S",
           "Mr"
          ],
          [
           3,
           "S",
           "Mr"
          ],
          [
           1,
           "C",
           "Mr"
          ],
          [
           3,
           "S",
           "Mr"
          ],
          [
           1,
           "S",
           "Mr"
          ],
          [
           3,
           "Q",
           "Mr"
          ],
          [
           3,
           "S",
           "Mr"
          ],
          [
           1,
           "S",
           "Mr"
          ],
          [
           2,
           "S",
           "Mr"
          ],
          [
           3,
           "S",
           "Mr"
          ],
          [
           3,
           "S",
           "Mr"
          ],
          [
           2,
           "S",
           "Mr"
          ],
          [
           1,
           "S",
           "Mr"
          ],
          [
           3,
           "Q",
           "Mr"
          ],
          [
           3,
           "S",
           "Mr"
          ],
          [
           3,
           "S",
           "Mr"
          ],
          [
           1,
           "S",
           "Mr"
          ],
          [
           2,
           "S",
           "Mr"
          ],
          [
           3,
           "S",
           "Mr"
          ],
          [
           3,
           "S",
           "Mr"
          ],
          [
           3,
           "S",
           "Master"
          ],
          [
           2,
           "S",
           "Mr"
          ],
          [
           3,
           "S",
           "Mr"
          ],
          [
           1,
           "C",
           "Mr"
          ],
          [
           3,
           "S",
           "Mr"
          ],
          [
           3,
           "S",
           "Mr"
          ],
          [
           3,
           "S",
           "Mr"
          ],
          [
           1,
           "S",
           "Mr"
          ],
          [
           1,
           "C",
           "Mr"
          ],
          [
           3,
           "S",
           "Mr"
          ],
          [
           3,
           "C",
           "Mr"
          ],
          [
           3,
           "S",
           "Mr"
          ],
          [
           3,
           "S",
           "Mr"
          ],
          [
           3,
           "S",
           "Mr"
          ],
          [
           1,
           "C",
           "Mr"
          ],
          [
           3,
           "S",
           "Mr"
          ],
          [
           3,
           "S",
           "Mr"
          ],
          [
           3,
           "S",
           "Mr"
          ],
          [
           1,
           "S",
           "Mr"
          ],
          [
           3,
           "Q",
           "Mr"
          ],
          [
           3,
           "S",
           "Mr"
          ],
          [
           3,
           "S",
           "Mr"
          ],
          [
           3,
           "C",
           "Mr"
          ],
          [
           3,
           "C",
           "Mr"
          ],
          [
           3,
           "Q",
           "Mr"
          ],
          [
           1,
           "S",
           "Mr"
          ],
          [
           3,
           "S",
           "Mr"
          ],
          [
           2,
           "S",
           "Mr"
          ],
          [
           3,
           "C",
           "Mr"
          ],
          [
           3,
           "C",
           "Mr"
          ],
          [
           1,
           "S",
           "Major"
          ],
          [
           3,
           "S",
           "Mr"
          ],
          [
           1,
           "C",
           "Mr"
          ],
          [
           1,
           "S",
           "Mr"
          ],
          [
           3,
           "S",
           "Mr"
          ],
          [
           2,
           "S",
           "Mr"
          ],
          [
           3,
           "Q",
           "Mr"
          ],
          [
           1,
           "S",
           "Mr"
          ],
          [
           1,
           "C",
           "Mr"
          ],
          [
           3,
           "Q",
           "Mr"
          ],
          [
           3,
           "S",
           "Mr"
          ],
          [
           2,
           "S",
           "Mr"
          ],
          [
           3,
           "S",
           "Mr"
          ],
          [
           3,
           "S",
           "Mr"
          ],
          [
           3,
           "S",
           "Mr"
          ],
          [
           3,
           "C",
           "Mr"
          ],
          [
           3,
           "S",
           "Mr"
          ],
          [
           3,
           "S",
           "Mr"
          ],
          [
           2,
           "S",
           "Mr"
          ],
          [
           1,
           "C",
           "Mr"
          ],
          [
           3,
           "C",
           "Mr"
          ],
          [
           2,
           "S",
           "Mr"
          ],
          [
           3,
           "S",
           "Mr"
          ],
          [
           3,
           "S",
           "Mr"
          ],
          [
           3,
           "S",
           "Mr"
          ],
          [
           3,
           "S",
           "Mr"
          ],
          [
           2,
           "S",
           "Mr"
          ],
          [
           3,
           "S",
           "Mr"
          ],
          [
           3,
           "S",
           "Mr"
          ],
          [
           3,
           "C",
           "Mr"
          ],
          [
           3,
           "S",
           "Mr"
          ],
          [
           1,
           "S",
           "Mr"
          ],
          [
           3,
           "S",
           "Mr"
          ],
          [
           3,
           "S",
           "Mr"
          ],
          [
           3,
           "S",
           "Mr"
          ],
          [
           3,
           "S",
           "Mr"
          ],
          [
           3,
           "Q",
           "Mr"
          ],
          [
           3,
           "S",
           "Mr"
          ],
          [
           3,
           "S",
           "Mr"
          ],
          [
           2,
           "S",
           "Mr"
          ],
          [
           3,
           "C",
           "Mr"
          ],
          [
           3,
           "S",
           "Mr"
          ],
          [
           3,
           "S",
           "Mr"
          ],
          [
           1,
           "S",
           "Mr"
          ],
          [
           2,
           "Q",
           "Rev"
          ],
          [
           3,
           "S",
           "Mr"
          ],
          [
           3,
           "Q",
           "Mr"
          ],
          [
           3,
           "S",
           "Mr"
          ],
          [
           1,
           "S",
           "Mr"
          ],
          [
           3,
           "S",
           "Mr"
          ],
          [
           2,
           "S",
           "Mr"
          ],
          [
           3,
           "S",
           "Mr"
          ],
          [
           3,
           "S",
           "Mr"
          ],
          [
           3,
           "S",
           "Mr"
          ],
          [
           3,
           "S",
           "Mr"
          ],
          [
           3,
           "S",
           "Mr"
          ],
          [
           3,
           "S",
           "Mr"
          ],
          [
           2,
           "S",
           "Mr"
          ],
          [
           3,
           "S",
           "Mr"
          ],
          [
           2,
           "S",
           "Mr"
          ],
          [
           1,
           "C",
           "Mr"
          ],
          [
           3,
           "C",
           "Mr"
          ],
          [
           1,
           "S",
           "Mr"
          ],
          [
           3,
           "S",
           "Mr"
          ],
          [
           2,
           "S",
           "Mr"
          ],
          [
           2,
           "S",
           "Mr"
          ],
          [
           3,
           "S",
           "Mr"
          ],
          [
           3,
           "S",
           "Mr"
          ],
          [
           1,
           "S",
           "Mr"
          ],
          [
           2,
           "S",
           "Mr"
          ],
          [
           2,
           "S",
           "Mr"
          ],
          [
           3,
           "S",
           "Mr"
          ],
          [
           3,
           "S",
           "Mr"
          ],
          [
           3,
           "S",
           "Mr"
          ],
          [
           3,
           "S",
           "Mr"
          ],
          [
           2,
           "S",
           "Mr"
          ],
          [
           2,
           "C",
           "Mr"
          ],
          [
           3,
           "S",
           "Mr"
          ],
          [
           3,
           "S",
           "Mr"
          ],
          [
           3,
           "S",
           "Mr"
          ],
          [
           3,
           "C",
           "Mr"
          ],
          [
           1,
           "S",
           "Col"
          ],
          [
           2,
           "S",
           "Mr"
          ],
          [
           3,
           "S",
           "Mr"
          ],
          [
           1,
           "C",
           "Mr"
          ],
          [
           3,
           "S",
           "Mr"
          ],
          [
           3,
           "Q",
           "Mr"
          ],
          [
           3,
           "S",
           "Mr"
          ],
          [
           2,
           "S",
           "Mr"
          ],
          [
           1,
           "S",
           "Mr"
          ],
          [
           3,
           "S",
           "Mr"
          ],
          [
           2,
           "S",
           "Mr"
          ],
          [
           3,
           "S",
           "Mr"
          ],
          [
           3,
           "Q",
           "Mr"
          ],
          [
           3,
           "S",
           "Mr"
          ],
          [
           3,
           "S",
           "Mr"
          ],
          [
           2,
           "S",
           "Mr"
          ],
          [
           2,
           "S",
           "Mr"
          ],
          [
           3,
           "S",
           "Mr"
          ],
          [
           2,
           "S",
           "Mr"
          ],
          [
           3,
           "C",
           "Mr"
          ],
          [
           2,
           "S",
           "Mr"
          ],
          [
           2,
           "S",
           "Mr"
          ],
          [
           2,
           "S",
           "Mr"
          ],
          [
           3,
           "S",
           "Mr"
          ],
          [
           3,
           "S",
           "Mr"
          ],
          [
           3,
           "S",
           "Mr"
          ],
          [
           1,
           "S",
           "Mr"
          ],
          [
           3,
           "S",
           "Mr"
          ],
          [
           1,
           "S",
           "Capt"
          ],
          [
           3,
           "S",
           "Mr"
          ],
          [
           1,
           "S",
           "Mr"
          ],
          [
           3,
           "Q",
           "Mr"
          ],
          [
           3,
           "S",
           "Mr"
          ],
          [
           3,
           "S",
           "Mr"
          ],
          [
           3,
           "S",
           "Mr"
          ],
          [
           2,
           "S",
           "Mr"
          ],
          [
           3,
           "S",
           "Mr"
          ],
          [
           3,
           "S",
           "Mr"
          ],
          [
           3,
           "S",
           "Mr"
          ],
          [
           3,
           "S",
           "Mr"
          ],
          [
           1,
           "C",
           "Dr"
          ],
          [
           3,
           "Q",
           "Mr"
          ],
          [
           3,
           "S",
           "Mr"
          ],
          [
           3,
           "S",
           "Mr"
          ],
          [
           3,
           "S",
           "Mr"
          ],
          [
           3,
           "C",
           "Mr"
          ],
          [
           3,
           "S",
           "Mr"
          ],
          [
           3,
           "Q",
           "Mr"
          ],
          [
           3,
           "Q",
           "Mr"
          ],
          [
           1,
           "S",
           "Mr"
          ],
          [
           3,
           "S",
           "Mr"
          ],
          [
           3,
           "S",
           "Mr"
          ],
          [
           3,
           "S",
           "Mr"
          ],
          [
           3,
           "Q",
           "Master"
          ],
          [
           1,
           "C",
           "Mr"
          ],
          [
           3,
           "Q",
           "Mr"
          ],
          [
           2,
           "S",
           "Mr"
          ],
          [
           1,
           "C",
           "Mr"
          ],
          [
           3,
           "S",
           "Mr"
          ],
          [
           2,
           "S",
           "Mr"
          ],
          [
           3,
           "C",
           "Mr"
          ],
          [
           2,
           "S",
           "Mr"
          ],
          [
           3,
           "S",
           "Mr"
          ],
          [
           1,
           "S",
           "Mr"
          ],
          [
           2,
           "S",
           "Mr"
          ],
          [
           3,
           "S",
           "Mr"
          ],
          [
           3,
           "S",
           "Mr"
          ],
          [
           2,
           "S",
           "Mr"
          ],
          [
           3,
           "S",
           "Mr"
          ],
          [
           1,
           "S",
           "Mr"
          ],
          [
           2,
           "C",
           "Mr"
          ],
          [
           3,
           "S",
           "Mr"
          ],
          [
           3,
           "S",
           "Master"
          ],
          [
           1,
           "S",
           "Jonkheer"
          ],
          [
           3,
           "S",
           "Master"
          ],
          [
           3,
           "Q",
           "Mr"
          ],
          [
           3,
           "S",
           "Mr"
          ],
          [
           3,
           "C",
           "Mr"
          ],
          [
           3,
           "S",
           "Mr"
          ],
          [
           3,
           "S",
           "Mr"
          ],
          [
           3,
           "S",
           "Mr"
          ],
          [
           3,
           "S",
           "Mr"
          ],
          [
           3,
           "S",
           "Mr"
          ],
          [
           2,
           "S",
           "Mr"
          ],
          [
           3,
           "C",
           "Mr"
          ],
          [
           3,
           "S",
           "Mr"
          ],
          [
           3,
           "S",
           "Mr"
          ],
          [
           3,
           "S",
           "Mr"
          ],
          [
           3,
           "C",
           "Mr"
          ],
          [
           2,
           "S",
           "Rev"
          ],
          [
           3,
           "S",
           "Master"
          ],
          [
           3,
           "S",
           "Mr"
          ],
          [
           3,
           "C",
           "Mr"
          ],
          [
           3,
           "S",
           "Mr"
          ],
          [
           2,
           "S",
           "Mr"
          ],
          [
           2,
           "S",
           "Mr"
          ],
          [
           1,
           "S",
           "Mr"
          ],
          [
           3,
           "S",
           "Mr"
          ],
          [
           3,
           "S",
           "Mr"
          ],
          [
           1,
           "S",
           "Mr"
          ],
          [
           3,
           "S",
           "Mr"
          ],
          [
           3,
           "S",
           "Mr"
          ],
          [
           3,
           "S",
           "Mr"
          ],
          [
           3,
           "S",
           "Mr"
          ],
          [
           3,
           "S",
           "Mr"
          ],
          [
           2,
           "S",
           "Mr"
          ],
          [
           3,
           "S",
           "Mr"
          ],
          [
           2,
           "S",
           "Rev"
          ],
          [
           3,
           "Q",
           "Mr"
          ]
         ],
         "hovertemplate": "color=0<br>Sex=male<br>Age=%{x}<br>Fare=%{y}<br>Pclass=%{customdata[0]}<br>Embarked=%{customdata[1]}<br>Title=%{customdata[2]}<extra></extra>",
         "legendgroup": "0, male",
         "marker": {
          "color": "#636efa",
          "symbol": "circle"
         },
         "mode": "markers",
         "name": "0, male",
         "orientation": "v",
         "showlegend": true,
         "type": "scatter",
         "x": [
          22,
          35,
          null,
          54,
          2,
          20,
          39,
          2,
          35,
          null,
          19,
          null,
          40,
          66,
          28,
          42,
          21,
          null,
          null,
          null,
          null,
          7,
          21,
          65,
          28.5,
          11,
          22,
          45,
          4,
          null,
          19,
          26,
          32,
          21,
          26,
          25,
          null,
          null,
          22,
          28,
          16,
          null,
          24,
          29,
          20,
          46,
          26,
          59,
          null,
          71,
          34,
          null,
          21,
          33,
          37,
          28,
          38,
          47,
          22,
          21,
          70.5,
          29,
          24,
          21,
          null,
          32.5,
          54,
          null,
          45,
          33,
          20,
          25,
          23,
          37,
          16,
          24,
          19,
          18,
          19,
          36.5,
          42,
          51,
          55.5,
          40.5,
          null,
          51,
          30,
          null,
          null,
          44,
          26,
          17,
          1,
          null,
          28,
          61,
          4,
          21,
          56,
          18,
          null,
          30,
          36,
          null,
          9,
          null,
          40,
          36,
          19,
          null,
          42,
          28,
          null,
          34,
          45.5,
          32,
          24,
          22,
          30,
          null,
          42,
          30,
          27,
          51,
          null,
          22,
          20.5,
          18,
          29,
          59,
          24,
          44,
          19,
          33,
          29,
          22,
          30,
          44,
          54,
          null,
          62,
          30,
          null,
          52,
          40,
          36,
          16,
          null,
          37,
          null,
          7,
          65,
          28,
          16,
          null,
          33,
          22,
          36,
          24,
          null,
          23.5,
          19,
          null,
          30,
          28,
          43,
          54,
          22,
          27,
          null,
          61,
          45.5,
          38,
          16,
          null,
          29,
          45,
          28,
          25,
          36,
          42,
          23,
          null,
          15,
          25,
          null,
          28,
          40,
          29,
          35,
          null,
          30,
          18,
          19,
          22,
          27,
          20,
          19,
          32,
          null,
          18,
          1,
          null,
          28,
          22,
          46,
          23,
          26,
          28,
          34,
          51,
          21,
          null,
          null,
          null,
          30,
          null,
          21,
          29,
          18,
          null,
          null,
          17,
          50,
          64,
          31,
          20,
          25,
          36,
          null,
          30,
          null,
          65,
          null,
          34,
          47,
          48,
          null,
          38,
          null,
          56,
          null,
          null,
          38,
          null,
          34,
          29,
          22,
          9,
          null,
          50,
          58,
          30,
          null,
          21,
          55,
          71,
          21,
          null,
          null,
          24,
          17,
          18,
          28,
          null,
          24,
          47,
          null,
          32,
          22,
          null,
          null,
          40.5,
          null,
          39,
          23,
          null,
          17,
          45,
          null,
          50,
          64,
          33,
          27,
          null,
          62,
          null,
          null,
          40,
          28,
          null,
          24,
          19,
          null,
          16,
          19,
          54,
          36,
          null,
          47,
          22,
          null,
          35,
          47,
          37,
          36,
          49,
          null,
          null,
          null,
          44,
          36,
          30,
          null,
          null,
          35,
          34,
          26,
          27,
          21,
          21,
          61,
          57,
          26,
          null,
          51,
          null,
          32,
          31,
          null,
          20,
          19,
          null,
          null,
          21,
          24,
          null,
          23,
          58,
          40,
          47,
          36,
          32,
          25,
          null,
          43,
          31,
          70,
          null,
          18,
          24.5,
          20,
          14,
          60,
          25,
          14,
          19,
          18,
          25,
          60,
          52,
          44,
          49,
          42,
          25,
          26,
          39,
          null,
          29,
          52,
          19,
          null,
          33,
          17,
          34,
          50,
          20,
          25,
          11,
          null,
          23,
          23,
          28.5,
          null,
          null,
          36,
          24,
          70,
          16,
          19,
          31,
          33,
          23,
          28,
          18,
          34,
          null,
          41,
          16,
          null,
          null,
          32,
          24,
          48,
          null,
          18,
          null,
          null,
          29,
          null,
          25,
          25,
          8,
          46,
          null,
          16,
          null,
          25,
          39,
          30,
          34,
          31,
          39,
          39,
          26,
          39,
          35,
          30.5,
          null,
          31,
          43,
          10,
          38,
          2,
          null,
          null,
          null,
          23,
          18,
          21,
          null,
          20,
          16,
          34.5,
          17,
          42,
          null,
          35,
          28,
          4,
          74,
          null,
          41,
          21,
          24,
          31,
          null,
          26,
          33,
          47,
          20,
          19,
          null,
          33,
          28,
          25,
          27,
          32
         ],
         "xaxis": "x",
         "y": [
          7.25,
          8.05,
          8.4583,
          51.8625,
          21.075,
          8.05,
          31.275,
          29.125,
          26,
          7.225,
          263,
          7.8958,
          27.7208,
          10.5,
          82.1708,
          52,
          8.05,
          7.8958,
          8.05,
          15.5,
          21.6792,
          39.6875,
          7.8,
          61.9792,
          7.2292,
          46.9,
          7.2292,
          83.475,
          27.9,
          27.7208,
          8.1583,
          8.6625,
          10.5,
          73.5,
          14.4542,
          7.65,
          7.8958,
          8.05,
          9,
          47.1,
          34.375,
          8.05,
          8.05,
          8.05,
          7.8542,
          61.175,
          20.575,
          7.25,
          8.05,
          34.6542,
          26,
          7.8958,
          77.2875,
          8.6542,
          7.925,
          7.8958,
          7.8958,
          52,
          8.05,
          7.925,
          7.75,
          21,
          247.5208,
          73.5,
          8.05,
          30.0708,
          77.2875,
          7.75,
          6.975,
          7.8958,
          7.05,
          13,
          15.0458,
          53.1,
          9.2167,
          79.2,
          6.75,
          11.5,
          36.75,
          26,
          13,
          12.525,
          8.05,
          14.5,
          7.3125,
          61.3792,
          8.05,
          8.6625,
          69.55,
          16.1,
          7.775,
          8.6625,
          39.6875,
          25.925,
          56.4958,
          33.5,
          29.125,
          7.925,
          30.6958,
          7.8542,
          25.4667,
          13,
          0,
          15.05,
          31.3875,
          50,
          15.5,
          7.8958,
          13,
          7.75,
          8.4042,
          9.5,
          69.55,
          6.4958,
          7.225,
          15.85,
          7.05,
          7.25,
          13,
          7.75,
          27,
          10.5,
          13,
          8.05,
          7.8958,
          9.35,
          7.25,
          13,
          7.775,
          13.5,
          10.5,
          26,
          10.5,
          12.275,
          10.5,
          7.125,
          7.225,
          90,
          26,
          7.25,
          26.55,
          16.1,
          7.75,
          79.65,
          0,
          10.5,
          39.6875,
          31,
          29.7,
          0,
          29.125,
          7.75,
          7.8542,
          9.5,
          26,
          8.6625,
          7.8958,
          12.875,
          7.8958,
          27.7208,
          7.2292,
          0,
          8.05,
          24,
          7.8958,
          26.25,
          14,
          7.25,
          7.8958,
          69.55,
          6.2375,
          28.5,
          153.4625,
          18,
          7.8958,
          66.6,
          35.5,
          13,
          13,
          13,
          8.6625,
          9.225,
          35,
          7.2292,
          17.8,
          7.225,
          9.5,
          27.9,
          27.7208,
          7.05,
          15.5,
          7.25,
          6.4958,
          8.05,
          135.6333,
          211.5,
          4.0125,
          7.775,
          7.925,
          7.8958,
          73.5,
          46.9,
          7.7292,
          7.925,
          7.7958,
          26,
          10.5,
          8.05,
          15.85,
          21,
          7.75,
          7.775,
          7.8958,
          6.8583,
          0,
          13,
          7.8958,
          7.7333,
          7.875,
          20.2125,
          7.25,
          7.75,
          7.125,
          55.9,
          263,
          10.5,
          9.5,
          7.775,
          27.75,
          19.9667,
          27.75,
          8.05,
          26.55,
          7.75,
          8.05,
          38.5,
          13,
          8.05,
          7.05,
          0,
          26.55,
          7.725,
          7.25,
          8.6625,
          52,
          21,
          7.0458,
          7.5208,
          46.9,
          0,
          8.05,
          29.7,
          8.05,
          19.9667,
          7.25,
          30.5,
          49.5042,
          8.05,
          14.4583,
          15.1,
          7.7958,
          8.6625,
          108.9,
          22.525,
          8.05,
          7.4958,
          34.0208,
          24.15,
          7.8958,
          7.8958,
          7.225,
          7.2292,
          7.75,
          221.7792,
          7.925,
          11.5,
          7.2292,
          7.2292,
          26.55,
          14.5,
          106.425,
          26,
          20.525,
          26,
          7.8292,
          26.55,
          227.525,
          7.75,
          7.8958,
          13.5,
          8.05,
          24.15,
          7.8958,
          7.2292,
          8.05,
          14.5,
          26,
          40.125,
          8.7125,
          15,
          8.05,
          8.05,
          7.125,
          7.25,
          26,
          24.15,
          0,
          7.225,
          7.8958,
          42.4,
          8.05,
          15.55,
          7.8958,
          7.05,
          7.75,
          8.05,
          14.4,
          10.5,
          14.4542,
          7.8542,
          16.1,
          32.3208,
          12.35,
          7.8958,
          7.7333,
          7.0542,
          0,
          7.925,
          26.25,
          16.1,
          7.8542,
          7.8958,
          7.55,
          7.8958,
          8.4333,
          73.5,
          7.8958,
          13,
          113.275,
          7.225,
          25.5875,
          7.4958,
          73.5,
          13,
          7.775,
          8.05,
          52,
          10.5,
          0,
          7.775,
          8.05,
          9.225,
          46.9,
          39,
          41.5792,
          39.6875,
          10.1708,
          7.7958,
          7.225,
          26.55,
          13.5,
          8.05,
          110.8833,
          7.65,
          7.7417,
          7.8542,
          26,
          26.55,
          9.4833,
          13,
          7.65,
          15.5,
          7.775,
          7.0542,
          13,
          13,
          8.6625,
          26,
          18.7875,
          0,
          13,
          13,
          16.1,
          7.8958,
          7.8958,
          78.85,
          16.1,
          71,
          20.25,
          53.1,
          7.75,
          9.5,
          7.8958,
          7.7958,
          11.5,
          8.05,
          14.5,
          7.125,
          7.775,
          39.6,
          24.15,
          8.3625,
          9.5,
          7.8542,
          7.225,
          7.75,
          7.75,
          7.7375,
          30,
          23.45,
          7.05,
          7.25,
          29.125,
          79.2,
          7.75,
          26,
          30.6958,
          7.8958,
          13,
          7.2292,
          13,
          7.775,
          0,
          13,
          7.8875,
          24.15,
          10.5,
          8.05,
          0,
          37.0042,
          6.45,
          27.9,
          0,
          39.6875,
          6.95,
          56.4958,
          7.2292,
          7.8542,
          8.3,
          8.6625,
          8.05,
          7.925,
          10.5,
          6.4375,
          8.6625,
          7.55,
          69.55,
          7.8958,
          33,
          31.275,
          7.775,
          7.2292,
          14.1083,
          11.5,
          13,
          50.4958,
          9.5,
          7.8958,
          5,
          9,
          9.8458,
          7.8958,
          7.8958,
          7.8958,
          10.5,
          7.05,
          13,
          7.75
         ],
         "yaxis": "y"
        },
        {
         "customdata": [
          [
           3,
           "S",
           "Miss"
          ],
          [
           3,
           "S",
           "Mrs"
          ],
          [
           3,
           "S",
           "Miss"
          ],
          [
           3,
           "S",
           "Miss"
          ],
          [
           3,
           "S",
           "Mrs"
          ],
          [
           2,
           "S",
           "Mrs"
          ],
          [
           3,
           "S",
           "Mrs"
          ],
          [
           3,
           "S",
           "Miss"
          ],
          [
           3,
           "S",
           "Miss"
          ],
          [
           3,
           "C",
           "Miss"
          ],
          [
           3,
           "S",
           "Miss"
          ],
          [
           3,
           "C",
           "Miss"
          ],
          [
           3,
           "S",
           "Miss"
          ],
          [
           3,
           "S",
           "Mrs"
          ],
          [
           3,
           "C",
           "Mrs"
          ],
          [
           3,
           "S",
           "Miss"
          ],
          [
           3,
           "S",
           "Mrs"
          ],
          [
           1,
           "C",
           "Miss"
          ],
          [
           3,
           "S",
           "Miss"
          ],
          [
           2,
           "S",
           "Miss"
          ],
          [
           3,
           "S",
           "Miss"
          ],
          [
           3,
           "S",
           "Miss"
          ],
          [
           3,
           "S",
           "Miss"
          ],
          [
           3,
           "C",
           "Miss"
          ],
          [
           3,
           "S",
           "Miss"
          ],
          [
           3,
           "S",
           "Mrs"
          ],
          [
           3,
           "S",
           "Mrs"
          ],
          [
           3,
           "Q",
           "Miss"
          ],
          [
           3,
           "S",
           "Miss"
          ],
          [
           3,
           "S",
           "Miss"
          ],
          [
           1,
           "S",
           "Miss"
          ],
          [
           2,
           "S",
           "Mrs"
          ],
          [
           2,
           "S",
           "Miss"
          ],
          [
           3,
           "C",
           "Mrs"
          ],
          [
           3,
           "S",
           "Miss"
          ],
          [
           3,
           "S",
           "Miss"
          ],
          [
           3,
           "S",
           "Miss"
          ],
          [
           3,
           "S",
           "Miss"
          ],
          [
           3,
           "S",
           "Miss"
          ],
          [
           3,
           "S",
           "Mrs"
          ],
          [
           3,
           "S",
           "Miss"
          ],
          [
           3,
           "S",
           "Mrs"
          ],
          [
           3,
           "S",
           "Miss"
          ],
          [
           3,
           "S",
           "Miss"
          ],
          [
           3,
           "S",
           "Miss"
          ],
          [
           1,
           "S",
           "Mrs"
          ],
          [
           3,
           "Q",
           "Miss"
          ],
          [
           3,
           "Q",
           "Miss"
          ],
          [
           3,
           "S",
           "Miss"
          ],
          [
           3,
           "S",
           "Miss"
          ],
          [
           3,
           "S",
           "Miss"
          ],
          [
           3,
           "S",
           "Miss"
          ],
          [
           3,
           "S",
           "Miss"
          ],
          [
           3,
           "S",
           "Mrs"
          ],
          [
           3,
           "C",
           "Mrs"
          ],
          [
           3,
           "Q",
           "Miss"
          ],
          [
           3,
           "S",
           "Mrs"
          ],
          [
           3,
           "S",
           "Mrs"
          ],
          [
           3,
           "S",
           "Miss"
          ],
          [
           3,
           "S",
           "Mrs"
          ],
          [
           3,
           "S",
           "Miss"
          ],
          [
           3,
           "Q",
           "Miss"
          ],
          [
           3,
           "Q",
           "Mrs"
          ],
          [
           3,
           "S",
           "Mrs"
          ],
          [
           3,
           "Q",
           "Miss"
          ],
          [
           3,
           "C",
           "Miss"
          ],
          [
           3,
           "S",
           "Miss"
          ],
          [
           3,
           "S",
           "Mrs"
          ],
          [
           3,
           "Q",
           "Miss"
          ],
          [
           2,
           "S",
           "Mrs"
          ],
          [
           3,
           "S",
           "Miss"
          ],
          [
           3,
           "S",
           "Mrs"
          ],
          [
           3,
           "S",
           "Miss"
          ],
          [
           3,
           "S",
           "Miss"
          ],
          [
           3,
           "S",
           "Miss"
          ],
          [
           3,
           "C",
           "Miss"
          ],
          [
           2,
           "S",
           "Mrs"
          ],
          [
           3,
           "S",
           "Miss"
          ],
          [
           3,
           "S",
           "Miss"
          ],
          [
           3,
           "Q",
           "Mrs"
          ],
          [
           3,
           "S",
           "Miss"
          ]
         ],
         "hovertemplate": "color=0<br>Sex=female<br>Age=%{x}<br>Fare=%{y}<br>Pclass=%{customdata[0]}<br>Embarked=%{customdata[1]}<br>Title=%{customdata[2]}<extra></extra>",
         "legendgroup": "0, female",
         "marker": {
          "color": "#636efa",
          "symbol": "diamond"
         },
         "mode": "markers",
         "name": "0, female",
         "orientation": "v",
         "showlegend": true,
         "type": "scatter",
         "x": [
          14,
          31,
          8,
          18,
          40,
          27,
          18,
          16,
          28,
          14.5,
          20,
          17,
          2,
          47,
          null,
          9,
          45,
          50,
          null,
          24,
          2,
          null,
          null,
          null,
          25,
          29,
          41,
          null,
          45,
          24,
          2,
          26,
          38,
          45,
          3,
          31,
          21,
          20,
          null,
          null,
          10,
          28,
          21,
          22,
          null,
          25,
          21,
          null,
          37,
          30,
          9,
          11,
          null,
          29,
          null,
          null,
          39,
          26,
          9,
          41,
          2,
          18,
          32,
          43,
          null,
          18,
          25,
          48,
          30.5,
          57,
          null,
          30,
          18,
          6,
          23,
          9,
          44,
          null,
          22,
          39,
          null
         ],
         "xaxis": "x",
         "y": [
          7.8542,
          18,
          21.075,
          18,
          9.475,
          21,
          17.8,
          46.9,
          7.8958,
          14.4542,
          9.825,
          14.4583,
          31.275,
          14.5,
          15.2458,
          34.375,
          27.9,
          28.7125,
          69.55,
          13,
          10.4625,
          25.4667,
          7.55,
          14.4542,
          7.775,
          10.4625,
          20.2125,
          7.75,
          7.75,
          8.85,
          151.55,
          26,
          13,
          14.4542,
          21.075,
          7.8542,
          9.825,
          8.6625,
          25.4667,
          8.05,
          24.15,
          14.4,
          34.375,
          9.8375,
          25.4667,
          151.55,
          7.75,
          7.6292,
          9.5875,
          8.6625,
          31.275,
          31.275,
          8.05,
          21.075,
          14.4583,
          7.75,
          31.275,
          16.1,
          27.9,
          39.6875,
          27.9,
          6.75,
          15.5,
          46.9,
          8.1375,
          14.4542,
          7.925,
          34.375,
          7.75,
          10.5,
          69.55,
          24.15,
          7.775,
          31.275,
          7.925,
          15.2458,
          26,
          69.55,
          10.5167,
          29.125,
          23.45
         ],
         "yaxis": "y"
        },
        {
         "customdata": [
          [
           2,
           "S",
           "Mr"
          ],
          [
           2,
           "S",
           "Mr"
          ],
          [
           1,
           "S",
           "Mr"
          ],
          [
           3,
           "C",
           "Mr"
          ],
          [
           1,
           "S",
           "Mr"
          ],
          [
           3,
           "C",
           "Master"
          ],
          [
           3,
           "S",
           "Mr"
          ],
          [
           2,
           "S",
           "Master"
          ],
          [
           3,
           "S",
           "Mr"
          ],
          [
           1,
           "C",
           "Mr"
          ],
          [
           3,
           "S",
           "Mr"
          ],
          [
           3,
           "C",
           "Master"
          ],
          [
           3,
           "S",
           "Mr"
          ],
          [
           3,
           "S",
           "Mr"
          ],
          [
           3,
           "S",
           "Master"
          ],
          [
           2,
           "S",
           "Master"
          ],
          [
           1,
           "S",
           "Mr"
          ],
          [
           2,
           "S",
           "Master"
          ],
          [
           3,
           "S",
           "Mr"
          ],
          [
           3,
           "C",
           "Mr"
          ],
          [
           1,
           "C",
           "Mr"
          ],
          [
           3,
           "S",
           "Mr"
          ],
          [
           1,
           "S",
           "Mr"
          ],
          [
           2,
           "S",
           "Mr"
          ],
          [
           1,
           "S",
           "Mr"
          ],
          [
           3,
           "S",
           "Master"
          ],
          [
           3,
           "S",
           "Mr"
          ],
          [
           3,
           "S",
           "Mr"
          ],
          [
           3,
           "S",
           "Mr"
          ],
          [
           3,
           "S",
           "Mr"
          ],
          [
           2,
           "S",
           "Mr"
          ],
          [
           1,
           "S",
           "Mr"
          ],
          [
           3,
           "Q",
           "Mr"
          ],
          [
           1,
           "S",
           "Master"
          ],
          [
           3,
           "S",
           "Mr"
          ],
          [
           2,
           "S",
           "Master"
          ],
          [
           3,
           "S",
           "Master"
          ],
          [
           1,
           "C",
           "Mr"
          ],
          [
           1,
           "S",
           "Mr"
          ],
          [
           3,
           "S",
           "Mr"
          ],
          [
           3,
           "S",
           "Mr"
          ],
          [
           2,
           "S",
           "Master"
          ],
          [
           3,
           "S",
           "Mr"
          ],
          [
           3,
           "S",
           "Mr"
          ],
          [
           1,
           "S",
           "Mr"
          ],
          [
           3,
           "S",
           "Mr"
          ],
          [
           1,
           "S",
           "Master"
          ],
          [
           1,
           "S",
           "Mr"
          ],
          [
           1,
           "S",
           "Major"
          ],
          [
           1,
           "C",
           "Mr"
          ],
          [
           3,
           "C",
           "Mr"
          ],
          [
           1,
           "S",
           "Mr"
          ],
          [
           1,
           "C",
           "Mr"
          ],
          [
           3,
           "S",
           "Master"
          ],
          [
           1,
           "S",
           "Mr"
          ],
          [
           3,
           "S",
           "Mr"
          ],
          [
           3,
           "Q",
           "Mr"
          ],
          [
           1,
           "S",
           "Mr"
          ],
          [
           2,
           "S",
           "Mr"
          ],
          [
           2,
           "C",
           "Mr"
          ],
          [
           2,
           "S",
           "Master"
          ],
          [
           1,
           "C",
           "Mr"
          ],
          [
           3,
           "C",
           "Mr"
          ],
          [
           3,
           "S",
           "Mr"
          ],
          [
           2,
           "S",
           "Mr"
          ],
          [
           1,
           "S",
           "Mr"
          ],
          [
           3,
           "S",
           "Mr"
          ],
          [
           1,
           "C",
           "Mr"
          ],
          [
           1,
           "C",
           "Sir"
          ],
          [
           1,
           "C",
           "Mr"
          ],
          [
           1,
           "S",
           "Mr"
          ],
          [
           1,
           "S",
           "Mr"
          ],
          [
           3,
           "C",
           "Mr"
          ],
          [
           1,
           "S",
           "Mr"
          ],
          [
           1,
           "C",
           "Dr"
          ],
          [
           3,
           "S",
           "Mr"
          ],
          [
           1,
           "C",
           "Mr"
          ],
          [
           1,
           "C",
           "Col"
          ],
          [
           1,
           "S",
           "Dr"
          ],
          [
           3,
           "S",
           "Mr"
          ],
          [
           2,
           "S",
           "Mr"
          ],
          [
           1,
           "C",
           "Mr"
          ],
          [
           1,
           "C",
           "Mr"
          ],
          [
           1,
           "S",
           "Mr"
          ],
          [
           3,
           "S",
           "Mr"
          ],
          [
           1,
           "S",
           "Mr"
          ],
          [
           1,
           "S",
           "Mr"
          ],
          [
           3,
           "C",
           "Master"
          ],
          [
           1,
           "S",
           "Mr"
          ],
          [
           1,
           "S",
           "Mr"
          ],
          [
           1,
           "C",
           "Mr"
          ],
          [
           1,
           "S",
           "Mr"
          ],
          [
           3,
           "S",
           "Mr"
          ],
          [
           3,
           "S",
           "Master"
          ],
          [
           2,
           "S",
           "Master"
          ],
          [
           3,
           "C",
           "Mr"
          ],
          [
           3,
           "S",
           "Master"
          ],
          [
           1,
           "S",
           "Master"
          ],
          [
           3,
           "C",
           "Master"
          ],
          [
           3,
           "S",
           "Mr"
          ],
          [
           3,
           "S",
           "Mr"
          ],
          [
           2,
           "C",
           "Master"
          ],
          [
           3,
           "Q",
           "Mr"
          ],
          [
           2,
           "S",
           "Master"
          ],
          [
           3,
           "S",
           "Mr"
          ],
          [
           1,
           "C",
           "Mr"
          ],
          [
           1,
           "S",
           "Mr"
          ],
          [
           3,
           "S",
           "Master"
          ],
          [
           1,
           "C",
           "Mr"
          ]
         ],
         "hovertemplate": "color=1<br>Sex=male<br>Age=%{x}<br>Fare=%{y}<br>Pclass=%{customdata[0]}<br>Embarked=%{customdata[1]}<br>Title=%{customdata[2]}<extra></extra>",
         "legendgroup": "1, male",
         "marker": {
          "color": "#EF553B",
          "symbol": "circle"
         },
         "mode": "markers",
         "name": "1, male",
         "orientation": "v",
         "showlegend": true,
         "type": "scatter",
         "x": [
          null,
          34,
          28,
          null,
          null,
          null,
          32,
          0.83,
          29,
          23,
          null,
          12,
          24,
          27,
          9,
          1,
          45,
          3,
          18,
          26,
          40,
          16,
          38,
          19,
          37,
          3,
          25,
          25,
          19,
          30,
          42,
          null,
          null,
          0.92,
          45,
          2,
          3,
          25,
          36,
          21,
          39,
          3,
          44,
          32,
          28,
          null,
          4,
          34,
          52,
          49,
          29,
          48,
          25,
          9,
          null,
          26,
          29,
          36,
          32,
          null,
          8,
          17,
          22,
          32,
          62,
          36,
          32,
          60,
          49,
          35,
          27,
          42,
          20,
          80,
          32,
          null,
          48,
          56,
          50,
          20,
          31,
          36,
          27,
          31,
          null,
          35,
          42,
          null,
          48,
          27,
          35,
          null,
          31,
          6,
          0.67,
          20,
          1,
          11,
          0.42,
          27,
          27,
          1,
          null,
          0.83,
          32,
          null,
          51,
          4,
          26
         ],
         "xaxis": "x",
         "y": [
          13,
          13,
          35.5,
          7.2292,
          35.5,
          15.2458,
          56.4958,
          29,
          9.5,
          63.3583,
          7.775,
          11.2417,
          7.1417,
          7.7958,
          20.525,
          39,
          26.55,
          26,
          8.05,
          18.7875,
          31,
          8.05,
          90,
          10.5,
          52.5542,
          31.3875,
          7.775,
          0,
          8.05,
          9.5,
          13,
          30.5,
          23.25,
          151.55,
          8.05,
          26,
          15.9,
          55.4417,
          120,
          7.7958,
          7.925,
          18.75,
          7.925,
          8.05,
          26.55,
          8.1125,
          81.8583,
          26.55,
          30.5,
          89.1042,
          7.8958,
          26.55,
          91.0792,
          15.9,
          26.55,
          56.4958,
          7.75,
          26.2875,
          26,
          13.8625,
          36.75,
          110.8833,
          7.225,
          7.8542,
          10.5,
          26.3875,
          7.925,
          79.2,
          56.9292,
          26.55,
          30.5,
          52.5542,
          15.7417,
          30,
          30.5,
          56.4958,
          76.7292,
          35.5,
          133.65,
          7.925,
          13,
          512.3292,
          76.7292,
          57,
          56.4958,
          26.2875,
          26.2875,
          15.2458,
          52,
          53.1,
          512.3292,
          30,
          7.925,
          12.475,
          14.5,
          7.2292,
          20.575,
          120,
          8.5167,
          6.975,
          8.6625,
          37.0042,
          7.75,
          18.75,
          56.4958,
          29.7,
          26.55,
          11.1333,
          30
         ],
         "yaxis": "y"
        },
        {
         "customdata": [
          [
           1,
           "C",
           "Mrs"
          ],
          [
           3,
           "S",
           "Miss"
          ],
          [
           1,
           "S",
           "Mrs"
          ],
          [
           3,
           "S",
           "Mrs"
          ],
          [
           2,
           "C",
           "Mrs"
          ],
          [
           3,
           "S",
           "Miss"
          ],
          [
           1,
           "S",
           "Miss"
          ],
          [
           2,
           "S",
           "Mrs"
          ],
          [
           3,
           "C",
           "Mrs"
          ],
          [
           3,
           "Q",
           "Miss"
          ],
          [
           3,
           "S",
           "Mrs"
          ],
          [
           3,
           "Q",
           "Miss"
          ],
          [
           1,
           "C",
           "Mrs"
          ],
          [
           3,
           "Q",
           "Miss"
          ],
          [
           3,
           "C",
           "Miss"
          ],
          [
           2,
           "C",
           "Miss"
          ],
          [
           3,
           "Q",
           "Miss"
          ],
          [
           3,
           "Q",
           "Miss"
          ],
          [
           1,
           "C",
           "Mrs"
          ],
          [
           2,
           "S",
           "Mrs"
          ],
          [
           2,
           "S",
           "Miss"
          ],
          [
           2,
           "S",
           "Miss"
          ],
          [
           1,
           null,
           "Miss"
          ],
          [
           2,
           "S",
           "Mrs"
          ],
          [
           3,
           "S",
           "Miss"
          ],
          [
           3,
           "S",
           "Miss"
          ],
          [
           3,
           "Q",
           "Miss"
          ],
          [
           2,
           "S",
           "Miss"
          ],
          [
           3,
           "S",
           "Mrs"
          ],
          [
           1,
           "S",
           "Miss"
          ],
          [
           2,
           "S",
           "Mrs"
          ],
          [
           3,
           "S",
           "Miss"
          ],
          [
           3,
           "Q",
           "Miss"
          ],
          [
           2,
           "S",
           "Miss"
          ],
          [
           3,
           "C",
           "Miss"
          ],
          [
           2,
           "S",
           "Mrs"
          ],
          [
           1,
           "S",
           "Miss"
          ],
          [
           3,
           "S",
           "Miss"
          ],
          [
           3,
           "S",
           "Mrs"
          ],
          [
           1,
           "S",
           "Mrs"
          ],
          [
           3,
           "Q",
           "Miss"
          ],
          [
           2,
           "S",
           "Mrs"
          ],
          [
           1,
           "S",
           "Mrs"
          ],
          [
           3,
           "S",
           "Miss"
          ],
          [
           3,
           "S",
           "Miss"
          ],
          [
           3,
           "Q",
           "Mrs"
          ],
          [
           2,
           "S",
           "Mrs"
          ],
          [
           3,
           "S",
           "Miss"
          ],
          [
           1,
           "C",
           "Mrs"
          ],
          [
           1,
           "C",
           "Miss"
          ],
          [
           3,
           "Q",
           "Miss"
          ],
          [
           3,
           "Q",
           "Miss"
          ],
          [
           2,
           "S",
           "Miss"
          ],
          [
           1,
           "C",
           "Miss"
          ],
          [
           3,
           "S",
           "Miss"
          ],
          [
           1,
           "C",
           "Miss"
          ],
          [
           1,
           "S",
           "Mrs"
          ],
          [
           3,
           "S",
           "Miss"
          ],
          [
           2,
           "S",
           "Miss"
          ],
          [
           3,
           "Q",
           "Miss"
          ],
          [
           2,
           "S",
           "Mrs"
          ],
          [
           3,
           "C",
           "Mrs"
          ],
          [
           1,
           "C",
           "Mrs"
          ],
          [
           1,
           "S",
           "Miss"
          ],
          [
           1,
           "C",
           "Miss"
          ],
          [
           2,
           "S",
           "Mrs"
          ],
          [
           1,
           "S",
           "Mrs"
          ],
          [
           1,
           "S",
           "Miss"
          ],
          [
           2,
           "S",
           "Mrs"
          ],
          [
           3,
           "Q",
           "Miss"
          ],
          [
           1,
           "S",
           "Miss"
          ],
          [
           3,
           "S",
           "Mrs"
          ],
          [
           3,
           "Q",
           "Miss"
          ],
          [
           1,
           "S",
           "Miss"
          ],
          [
           1,
           "C",
           "Mrs"
          ],
          [
           1,
           "C",
           "Mrs"
          ],
          [
           3,
           "Q",
           "Miss"
          ],
          [
           2,
           "Q",
           "Miss"
          ],
          [
           1,
           "C",
           "Miss"
          ],
          [
           1,
           "C",
           "Mrs"
          ],
          [
           1,
           "C",
           "Miss"
          ],
          [
           1,
           "C",
           "Miss"
          ],
          [
           1,
           "C",
           "Miss"
          ],
          [
           3,
           "S",
           "Miss"
          ],
          [
           2,
           "S",
           "Mrs"
          ],
          [
           1,
           "S",
           "Miss"
          ],
          [
           1,
           "C",
           "Mrs"
          ],
          [
           2,
           "Q",
           "Miss"
          ],
          [
           2,
           "S",
           "Mrs"
          ],
          [
           1,
           "C",
           "Miss"
          ],
          [
           2,
           "S",
           "Mrs"
          ],
          [
           3,
           "S",
           "Mrs"
          ],
          [
           1,
           "C",
           "Miss"
          ],
          [
           3,
           "Q",
           "Miss"
          ],
          [
           1,
           "S",
           "Mrs"
          ],
          [
           1,
           "C",
           "Miss"
          ],
          [
           1,
           "S",
           "Miss"
          ],
          [
           2,
           "S",
           "Miss"
          ],
          [
           2,
           "S",
           "Miss"
          ],
          [
           3,
           "S",
           "Mrs"
          ],
          [
           1,
           "S",
           "Miss"
          ],
          [
           3,
           "Q",
           "Miss"
          ],
          [
           3,
           "Q",
           "Miss"
          ],
          [
           1,
           "C",
           "Mrs"
          ],
          [
           3,
           "C",
           "Mrs"
          ],
          [
           3,
           "Q",
           "Miss"
          ],
          [
           1,
           "C",
           "Mme"
          ],
          [
           1,
           "C",
           "Mrs"
          ],
          [
           3,
           "S",
           "Miss"
          ],
          [
           1,
           "C",
           "Miss"
          ],
          [
           3,
           "C",
           "Miss"
          ],
          [
           1,
           "S",
           "Mrs"
          ],
          [
           2,
           "S",
           "Miss"
          ],
          [
           2,
           "C",
           "Miss"
          ],
          [
           1,
           "C",
           "Miss"
          ],
          [
           3,
           "S",
           "Mrs"
          ],
          [
           2,
           "S",
           "Mrs"
          ],
          [
           1,
           "Q",
           "Miss"
          ],
          [
           2,
           "S",
           "Mrs"
          ],
          [
           2,
           "S",
           "Miss"
          ],
          [
           2,
           "S",
           "Mrs"
          ],
          [
           2,
           "S",
           "Miss"
          ],
          [
           3,
           "S",
           "Mrs"
          ],
          [
           2,
           "S",
           "Mrs"
          ],
          [
           1,
           "S",
           "Miss"
          ],
          [
           2,
           "S",
           "Mrs"
          ],
          [
           2,
           "S",
           "Mrs"
          ],
          [
           2,
           "S",
           "Ms"
          ],
          [
           2,
           "S",
           "Miss"
          ],
          [
           3,
           "C",
           "Miss"
          ],
          [
           1,
           "S",
           "Mrs"
          ],
          [
           2,
           "S",
           "Miss"
          ],
          [
           3,
           "C",
           "Miss"
          ],
          [
           2,
           "S",
           "Mrs"
          ],
          [
           2,
           "C",
           "Mrs"
          ],
          [
           3,
           "S",
           "Miss"
          ],
          [
           3,
           "S",
           "Mrs"
          ],
          [
           1,
           "S",
           "Mrs"
          ],
          [
           1,
           "C",
           "Miss"
          ],
          [
           1,
           "S",
           "Miss"
          ],
          [
           2,
           "S",
           "Mrs"
          ],
          [
           1,
           "C",
           "Mrs"
          ],
          [
           2,
           "S",
           "Mrs"
          ],
          [
           2,
           "S",
           "Mrs"
          ],
          [
           1,
           "S",
           "Miss"
          ],
          [
           1,
           "C",
           "Mrs"
          ],
          [
           2,
           "S",
           "Miss"
          ],
          [
           2,
           "S",
           "Miss"
          ],
          [
           3,
           "C",
           "Mrs"
          ],
          [
           2,
           "S",
           "Miss"
          ],
          [
           1,
           "C",
           "Miss"
          ],
          [
           1,
           "C",
           "Miss"
          ],
          [
           1,
           "S",
           "Miss"
          ],
          [
           2,
           "S",
           "Mrs"
          ],
          [
           3,
           "S",
           "Miss"
          ],
          [
           1,
           "C",
           "Lady"
          ],
          [
           1,
           "S",
           "Mrs"
          ],
          [
           3,
           "S",
           "Mrs"
          ],
          [
           1,
           "S",
           "Mrs"
          ],
          [
           3,
           "Q",
           "Miss"
          ],
          [
           2,
           "S",
           "Miss"
          ],
          [
           1,
           "S",
           "Mrs"
          ],
          [
           2,
           "S",
           "Miss"
          ],
          [
           1,
           "C",
           "Mrs"
          ],
          [
           1,
           "S",
           "Miss"
          ],
          [
           1,
           "C",
           "Mrs"
          ],
          [
           2,
           "S",
           "Miss"
          ],
          [
           2,
           "S",
           "Mrs"
          ],
          [
           2,
           "C",
           "Mrs"
          ],
          [
           1,
           "S",
           "Miss"
          ],
          [
           3,
           "Q",
           "Miss"
          ],
          [
           2,
           "S",
           "Miss"
          ],
          [
           2,
           "S",
           "Miss"
          ],
          [
           1,
           "S",
           "Miss"
          ],
          [
           2,
           "S",
           "Miss"
          ],
          [
           1,
           "C",
           "Mlle"
          ],
          [
           3,
           "C",
           "Miss"
          ],
          [
           3,
           "S",
           "Miss"
          ],
          [
           2,
           "S",
           "Miss"
          ],
          [
           3,
           "Q",
           "Miss"
          ],
          [
           1,
           "S",
           "Mrs"
          ],
          [
           2,
           "S",
           "Mrs"
          ],
          [
           3,
           "S",
           "Miss"
          ],
          [
           1,
           "S",
           "Miss"
          ],
          [
           3,
           "C",
           "Miss"
          ],
          [
           3,
           "Q",
           "Miss"
          ],
          [
           1,
           "C",
           "Mrs"
          ],
          [
           2,
           "S",
           "Mrs"
          ],
          [
           1,
           "S",
           "Miss"
          ],
          [
           1,
           "C",
           "Mlle"
          ],
          [
           1,
           "C",
           "Miss"
          ],
          [
           2,
           "S",
           "Miss"
          ],
          [
           2,
           "S",
           "Miss"
          ],
          [
           2,
           "S",
           "Mrs"
          ],
          [
           3,
           "Q",
           "Miss"
          ],
          [
           1,
           "S",
           "Miss"
          ],
          [
           1,
           "C",
           "Miss"
          ],
          [
           2,
           "S",
           "Miss"
          ],
          [
           2,
           "S",
           "Miss"
          ],
          [
           2,
           "S",
           "Mrs"
          ],
          [
           1,
           "S",
           "the Countess"
          ],
          [
           1,
           "S",
           "Mrs"
          ],
          [
           1,
           "S",
           "Mrs"
          ],
          [
           2,
           "S",
           "Mrs"
          ],
          [
           3,
           "S",
           "Miss"
          ],
          [
           1,
           "S",
           "Mrs"
          ],
          [
           3,
           "C",
           "Miss"
          ],
          [
           1,
           "S",
           "Mrs"
          ],
          [
           3,
           "S",
           "Miss"
          ],
          [
           1,
           "S",
           "Dr"
          ],
          [
           3,
           "S",
           "Mrs"
          ],
          [
           2,
           "S",
           "Mrs"
          ],
          [
           1,
           "S",
           "Mrs"
          ],
          [
           1,
           "S",
           "Mrs"
          ],
          [
           3,
           "S",
           "Mrs"
          ],
          [
           1,
           null,
           "Mrs"
          ],
          [
           3,
           "C",
           "Mrs"
          ],
          [
           1,
           "C",
           "Miss"
          ],
          [
           1,
           "C",
           "Miss"
          ],
          [
           1,
           "C",
           "Mrs"
          ],
          [
           1,
           "S",
           "Miss"
          ],
          [
           3,
           "S",
           "Mrs"
          ],
          [
           1,
           "S",
           "Mrs"
          ],
          [
           3,
           "C",
           "Mrs"
          ],
          [
           1,
           "S",
           "Mrs"
          ],
          [
           2,
           "S",
           "Mrs"
          ],
          [
           2,
           "C",
           "Miss"
          ],
          [
           1,
           "S",
           "Mrs"
          ],
          [
           2,
           "C",
           "Mrs"
          ],
          [
           3,
           "C",
           "Miss"
          ],
          [
           1,
           "C",
           "Mrs"
          ],
          [
           2,
           "S",
           "Mrs"
          ],
          [
           1,
           "S",
           "Miss"
          ]
         ],
         "hovertemplate": "color=1<br>Sex=female<br>Age=%{x}<br>Fare=%{y}<br>Pclass=%{customdata[0]}<br>Embarked=%{customdata[1]}<br>Title=%{customdata[2]}<extra></extra>",
         "legendgroup": "1, female",
         "marker": {
          "color": "#EF553B",
          "symbol": "diamond"
         },
         "mode": "markers",
         "name": "1, female",
         "orientation": "v",
         "showlegend": true,
         "type": "scatter",
         "x": [
          38,
          26,
          35,
          27,
          14,
          4,
          58,
          55,
          null,
          15,
          38,
          null,
          null,
          null,
          14,
          3,
          19,
          null,
          49,
          29,
          21,
          5,
          38,
          29,
          17,
          30,
          null,
          17,
          33,
          23,
          34,
          21,
          null,
          32.5,
          null,
          29,
          19,
          22,
          24,
          22,
          16,
          40,
          null,
          1,
          4,
          null,
          32,
          19,
          44,
          58,
          null,
          16,
          35,
          31,
          27,
          32,
          35,
          5,
          8,
          null,
          24,
          29,
          null,
          30,
          35,
          50,
          58,
          35,
          41,
          null,
          63,
          35,
          22,
          26,
          19,
          50,
          null,
          null,
          null,
          17,
          30,
          24,
          18,
          26,
          24,
          31,
          40,
          30,
          22,
          36,
          36,
          31,
          16,
          null,
          null,
          41,
          24,
          24,
          40,
          null,
          22,
          null,
          null,
          60,
          null,
          null,
          24,
          null,
          22,
          42,
          1,
          35,
          36,
          17,
          23,
          24,
          28,
          33,
          34,
          18,
          28,
          19,
          null,
          42,
          14,
          24,
          45,
          28,
          13,
          5,
          null,
          50,
          0.75,
          33,
          23,
          2,
          63,
          35,
          54,
          16,
          33,
          54,
          34,
          36,
          30,
          44,
          50,
          2,
          null,
          7,
          30,
          22,
          36,
          19,
          22,
          48,
          39,
          36,
          53,
          null,
          34,
          39,
          25,
          39,
          18,
          52,
          null,
          24,
          22,
          40,
          null,
          24,
          4,
          21,
          28,
          24,
          0.75,
          23,
          18,
          null,
          null,
          40,
          18,
          15,
          4,
          null,
          18,
          45,
          22,
          24,
          38,
          27,
          6,
          30,
          null,
          29,
          21,
          30,
          4,
          48,
          33,
          36,
          51,
          54,
          5,
          43,
          13,
          17,
          18,
          49,
          31,
          31,
          33,
          52,
          27,
          62,
          15,
          39,
          30,
          null,
          16,
          18,
          45,
          24,
          48,
          42,
          27,
          47,
          28,
          15,
          56,
          25,
          19
         ],
         "xaxis": "x",
         "y": [
          71.2833,
          7.925,
          53.1,
          11.1333,
          30.0708,
          16.7,
          26.55,
          16,
          7.225,
          8.0292,
          31.3875,
          7.8792,
          146.5208,
          7.75,
          11.2417,
          41.5792,
          7.8792,
          7.75,
          76.7292,
          26,
          10.5,
          27.75,
          80,
          10.5,
          7.925,
          12.475,
          7.7875,
          10.5,
          15.85,
          263,
          23,
          7.65,
          24.15,
          13,
          22.3583,
          26,
          26.2833,
          7.75,
          15.85,
          66.6,
          7.7333,
          15.75,
          55,
          11.1333,
          22.025,
          15.5,
          13,
          7.8542,
          27.7208,
          146.5208,
          7.75,
          7.75,
          21,
          113.275,
          7.925,
          76.2917,
          83.475,
          31.3875,
          26.25,
          15.5,
          14.5,
          15.2458,
          79.2,
          86.5,
          512.3292,
          26,
          153.4625,
          135.6333,
          19.5,
          7.75,
          77.9583,
          20.25,
          7.75,
          78.85,
          91.0792,
          247.5208,
          7.75,
          12.35,
          110.8833,
          108.9,
          56.9292,
          83.1583,
          262.375,
          7.8542,
          26,
          164.8667,
          134.5,
          12.35,
          29,
          135.6333,
          13,
          20.525,
          57.9792,
          23.25,
          133.65,
          134.5,
          263,
          13,
          13,
          16.1,
          55,
          7.8792,
          7.8792,
          75.25,
          7.2292,
          7.75,
          69.3,
          82.1708,
          7.25,
          227.525,
          15.7417,
          52,
          13,
          12,
          113.275,
          16.7,
          12.65,
          90,
          32.5,
          13,
          26,
          26,
          16.1,
          26,
          120,
          18.75,
          26.25,
          13,
          19.5,
          19.2583,
          51.8625,
          10.5,
          19.2583,
          27.75,
          13.7917,
          12.2875,
          9.5875,
          90,
          78.2667,
          86.5,
          26,
          59.4,
          10.5,
          26,
          93.5,
          57.9792,
          10.5,
          26,
          22.3583,
          26.25,
          106.425,
          49.5,
          71,
          26,
          7.775,
          39.6,
          79.65,
          17.4,
          51.4792,
          7.75,
          13,
          55.9,
          30,
          110.8833,
          79.65,
          78.2667,
          33,
          27,
          41.5792,
          153.4625,
          15.5,
          65,
          39,
          77.9583,
          13,
          69.3,
          19.2583,
          7.55,
          23,
          7.8292,
          52,
          39,
          9.8417,
          211.3375,
          13.4167,
          7.7333,
          227.525,
          13.5,
          151.55,
          49.5042,
          227.525,
          10.5,
          33,
          21,
          7.7375,
          211.3375,
          262.375,
          13,
          23,
          65,
          86.5,
          120,
          77.9583,
          23,
          12.475,
          211.3375,
          7.2292,
          57,
          7.4958,
          25.9292,
          8.6833,
          26.25,
          53.1,
          93.5,
          12.475,
          80,
          14.4542,
          83.1583,
          31,
          89.1042,
          39.4,
          9.35,
          164.8667,
          19.2583,
          25.9292,
          13,
          13.8583,
          52.5542,
          24,
          7.225,
          83.1583,
          26,
          30
         ],
         "yaxis": "y"
        }
       ],
       "layout": {
        "legend": {
         "title": {
          "text": "color, Sex"
         },
         "tracegroupgap": 0
        },
        "template": {
         "data": {
          "bar": [
           {
            "error_x": {
             "color": "#2a3f5f"
            },
            "error_y": {
             "color": "#2a3f5f"
            },
            "marker": {
             "line": {
              "color": "#E5ECF6",
              "width": 0.5
             },
             "pattern": {
              "fillmode": "overlay",
              "size": 10,
              "solidity": 0.2
             }
            },
            "type": "bar"
           }
          ],
          "barpolar": [
           {
            "marker": {
             "line": {
              "color": "#E5ECF6",
              "width": 0.5
             },
             "pattern": {
              "fillmode": "overlay",
              "size": 10,
              "solidity": 0.2
             }
            },
            "type": "barpolar"
           }
          ],
          "carpet": [
           {
            "aaxis": {
             "endlinecolor": "#2a3f5f",
             "gridcolor": "white",
             "linecolor": "white",
             "minorgridcolor": "white",
             "startlinecolor": "#2a3f5f"
            },
            "baxis": {
             "endlinecolor": "#2a3f5f",
             "gridcolor": "white",
             "linecolor": "white",
             "minorgridcolor": "white",
             "startlinecolor": "#2a3f5f"
            },
            "type": "carpet"
           }
          ],
          "choropleth": [
           {
            "colorbar": {
             "outlinewidth": 0,
             "ticks": ""
            },
            "type": "choropleth"
           }
          ],
          "contour": [
           {
            "colorbar": {
             "outlinewidth": 0,
             "ticks": ""
            },
            "colorscale": [
             [
              0,
              "#0d0887"
             ],
             [
              0.1111111111111111,
              "#46039f"
             ],
             [
              0.2222222222222222,
              "#7201a8"
             ],
             [
              0.3333333333333333,
              "#9c179e"
             ],
             [
              0.4444444444444444,
              "#bd3786"
             ],
             [
              0.5555555555555556,
              "#d8576b"
             ],
             [
              0.6666666666666666,
              "#ed7953"
             ],
             [
              0.7777777777777778,
              "#fb9f3a"
             ],
             [
              0.8888888888888888,
              "#fdca26"
             ],
             [
              1,
              "#f0f921"
             ]
            ],
            "type": "contour"
           }
          ],
          "contourcarpet": [
           {
            "colorbar": {
             "outlinewidth": 0,
             "ticks": ""
            },
            "type": "contourcarpet"
           }
          ],
          "heatmap": [
           {
            "colorbar": {
             "outlinewidth": 0,
             "ticks": ""
            },
            "colorscale": [
             [
              0,
              "#0d0887"
             ],
             [
              0.1111111111111111,
              "#46039f"
             ],
             [
              0.2222222222222222,
              "#7201a8"
             ],
             [
              0.3333333333333333,
              "#9c179e"
             ],
             [
              0.4444444444444444,
              "#bd3786"
             ],
             [
              0.5555555555555556,
              "#d8576b"
             ],
             [
              0.6666666666666666,
              "#ed7953"
             ],
             [
              0.7777777777777778,
              "#fb9f3a"
             ],
             [
              0.8888888888888888,
              "#fdca26"
             ],
             [
              1,
              "#f0f921"
             ]
            ],
            "type": "heatmap"
           }
          ],
          "heatmapgl": [
           {
            "colorbar": {
             "outlinewidth": 0,
             "ticks": ""
            },
            "colorscale": [
             [
              0,
              "#0d0887"
             ],
             [
              0.1111111111111111,
              "#46039f"
             ],
             [
              0.2222222222222222,
              "#7201a8"
             ],
             [
              0.3333333333333333,
              "#9c179e"
             ],
             [
              0.4444444444444444,
              "#bd3786"
             ],
             [
              0.5555555555555556,
              "#d8576b"
             ],
             [
              0.6666666666666666,
              "#ed7953"
             ],
             [
              0.7777777777777778,
              "#fb9f3a"
             ],
             [
              0.8888888888888888,
              "#fdca26"
             ],
             [
              1,
              "#f0f921"
             ]
            ],
            "type": "heatmapgl"
           }
          ],
          "histogram": [
           {
            "marker": {
             "pattern": {
              "fillmode": "overlay",
              "size": 10,
              "solidity": 0.2
             }
            },
            "type": "histogram"
           }
          ],
          "histogram2d": [
           {
            "colorbar": {
             "outlinewidth": 0,
             "ticks": ""
            },
            "colorscale": [
             [
              0,
              "#0d0887"
             ],
             [
              0.1111111111111111,
              "#46039f"
             ],
             [
              0.2222222222222222,
              "#7201a8"
             ],
             [
              0.3333333333333333,
              "#9c179e"
             ],
             [
              0.4444444444444444,
              "#bd3786"
             ],
             [
              0.5555555555555556,
              "#d8576b"
             ],
             [
              0.6666666666666666,
              "#ed7953"
             ],
             [
              0.7777777777777778,
              "#fb9f3a"
             ],
             [
              0.8888888888888888,
              "#fdca26"
             ],
             [
              1,
              "#f0f921"
             ]
            ],
            "type": "histogram2d"
           }
          ],
          "histogram2dcontour": [
           {
            "colorbar": {
             "outlinewidth": 0,
             "ticks": ""
            },
            "colorscale": [
             [
              0,
              "#0d0887"
             ],
             [
              0.1111111111111111,
              "#46039f"
             ],
             [
              0.2222222222222222,
              "#7201a8"
             ],
             [
              0.3333333333333333,
              "#9c179e"
             ],
             [
              0.4444444444444444,
              "#bd3786"
             ],
             [
              0.5555555555555556,
              "#d8576b"
             ],
             [
              0.6666666666666666,
              "#ed7953"
             ],
             [
              0.7777777777777778,
              "#fb9f3a"
             ],
             [
              0.8888888888888888,
              "#fdca26"
             ],
             [
              1,
              "#f0f921"
             ]
            ],
            "type": "histogram2dcontour"
           }
          ],
          "mesh3d": [
           {
            "colorbar": {
             "outlinewidth": 0,
             "ticks": ""
            },
            "type": "mesh3d"
           }
          ],
          "parcoords": [
           {
            "line": {
             "colorbar": {
              "outlinewidth": 0,
              "ticks": ""
             }
            },
            "type": "parcoords"
           }
          ],
          "pie": [
           {
            "automargin": true,
            "type": "pie"
           }
          ],
          "scatter": [
           {
            "fillpattern": {
             "fillmode": "overlay",
             "size": 10,
             "solidity": 0.2
            },
            "type": "scatter"
           }
          ],
          "scatter3d": [
           {
            "line": {
             "colorbar": {
              "outlinewidth": 0,
              "ticks": ""
             }
            },
            "marker": {
             "colorbar": {
              "outlinewidth": 0,
              "ticks": ""
             }
            },
            "type": "scatter3d"
           }
          ],
          "scattercarpet": [
           {
            "marker": {
             "colorbar": {
              "outlinewidth": 0,
              "ticks": ""
             }
            },
            "type": "scattercarpet"
           }
          ],
          "scattergeo": [
           {
            "marker": {
             "colorbar": {
              "outlinewidth": 0,
              "ticks": ""
             }
            },
            "type": "scattergeo"
           }
          ],
          "scattergl": [
           {
            "marker": {
             "colorbar": {
              "outlinewidth": 0,
              "ticks": ""
             }
            },
            "type": "scattergl"
           }
          ],
          "scattermapbox": [
           {
            "marker": {
             "colorbar": {
              "outlinewidth": 0,
              "ticks": ""
             }
            },
            "type": "scattermapbox"
           }
          ],
          "scatterpolar": [
           {
            "marker": {
             "colorbar": {
              "outlinewidth": 0,
              "ticks": ""
             }
            },
            "type": "scatterpolar"
           }
          ],
          "scatterpolargl": [
           {
            "marker": {
             "colorbar": {
              "outlinewidth": 0,
              "ticks": ""
             }
            },
            "type": "scatterpolargl"
           }
          ],
          "scatterternary": [
           {
            "marker": {
             "colorbar": {
              "outlinewidth": 0,
              "ticks": ""
             }
            },
            "type": "scatterternary"
           }
          ],
          "surface": [
           {
            "colorbar": {
             "outlinewidth": 0,
             "ticks": ""
            },
            "colorscale": [
             [
              0,
              "#0d0887"
             ],
             [
              0.1111111111111111,
              "#46039f"
             ],
             [
              0.2222222222222222,
              "#7201a8"
             ],
             [
              0.3333333333333333,
              "#9c179e"
             ],
             [
              0.4444444444444444,
              "#bd3786"
             ],
             [
              0.5555555555555556,
              "#d8576b"
             ],
             [
              0.6666666666666666,
              "#ed7953"
             ],
             [
              0.7777777777777778,
              "#fb9f3a"
             ],
             [
              0.8888888888888888,
              "#fdca26"
             ],
             [
              1,
              "#f0f921"
             ]
            ],
            "type": "surface"
           }
          ],
          "table": [
           {
            "cells": {
             "fill": {
              "color": "#EBF0F8"
             },
             "line": {
              "color": "white"
             }
            },
            "header": {
             "fill": {
              "color": "#C8D4E3"
             },
             "line": {
              "color": "white"
             }
            },
            "type": "table"
           }
          ]
         },
         "layout": {
          "annotationdefaults": {
           "arrowcolor": "#2a3f5f",
           "arrowhead": 0,
           "arrowwidth": 1
          },
          "autotypenumbers": "strict",
          "coloraxis": {
           "colorbar": {
            "outlinewidth": 0,
            "ticks": ""
           }
          },
          "colorscale": {
           "diverging": [
            [
             0,
             "#8e0152"
            ],
            [
             0.1,
             "#c51b7d"
            ],
            [
             0.2,
             "#de77ae"
            ],
            [
             0.3,
             "#f1b6da"
            ],
            [
             0.4,
             "#fde0ef"
            ],
            [
             0.5,
             "#f7f7f7"
            ],
            [
             0.6,
             "#e6f5d0"
            ],
            [
             0.7,
             "#b8e186"
            ],
            [
             0.8,
             "#7fbc41"
            ],
            [
             0.9,
             "#4d9221"
            ],
            [
             1,
             "#276419"
            ]
           ],
           "sequential": [
            [
             0,
             "#0d0887"
            ],
            [
             0.1111111111111111,
             "#46039f"
            ],
            [
             0.2222222222222222,
             "#7201a8"
            ],
            [
             0.3333333333333333,
             "#9c179e"
            ],
            [
             0.4444444444444444,
             "#bd3786"
            ],
            [
             0.5555555555555556,
             "#d8576b"
            ],
            [
             0.6666666666666666,
             "#ed7953"
            ],
            [
             0.7777777777777778,
             "#fb9f3a"
            ],
            [
             0.8888888888888888,
             "#fdca26"
            ],
            [
             1,
             "#f0f921"
            ]
           ],
           "sequentialminus": [
            [
             0,
             "#0d0887"
            ],
            [
             0.1111111111111111,
             "#46039f"
            ],
            [
             0.2222222222222222,
             "#7201a8"
            ],
            [
             0.3333333333333333,
             "#9c179e"
            ],
            [
             0.4444444444444444,
             "#bd3786"
            ],
            [
             0.5555555555555556,
             "#d8576b"
            ],
            [
             0.6666666666666666,
             "#ed7953"
            ],
            [
             0.7777777777777778,
             "#fb9f3a"
            ],
            [
             0.8888888888888888,
             "#fdca26"
            ],
            [
             1,
             "#f0f921"
            ]
           ]
          },
          "colorway": [
           "#636efa",
           "#EF553B",
           "#00cc96",
           "#ab63fa",
           "#FFA15A",
           "#19d3f3",
           "#FF6692",
           "#B6E880",
           "#FF97FF",
           "#FECB52"
          ],
          "font": {
           "color": "#2a3f5f"
          },
          "geo": {
           "bgcolor": "white",
           "lakecolor": "white",
           "landcolor": "#E5ECF6",
           "showlakes": true,
           "showland": true,
           "subunitcolor": "white"
          },
          "hoverlabel": {
           "align": "left"
          },
          "hovermode": "closest",
          "mapbox": {
           "style": "light"
          },
          "paper_bgcolor": "white",
          "plot_bgcolor": "#E5ECF6",
          "polar": {
           "angularaxis": {
            "gridcolor": "white",
            "linecolor": "white",
            "ticks": ""
           },
           "bgcolor": "#E5ECF6",
           "radialaxis": {
            "gridcolor": "white",
            "linecolor": "white",
            "ticks": ""
           }
          },
          "scene": {
           "xaxis": {
            "backgroundcolor": "#E5ECF6",
            "gridcolor": "white",
            "gridwidth": 2,
            "linecolor": "white",
            "showbackground": true,
            "ticks": "",
            "zerolinecolor": "white"
           },
           "yaxis": {
            "backgroundcolor": "#E5ECF6",
            "gridcolor": "white",
            "gridwidth": 2,
            "linecolor": "white",
            "showbackground": true,
            "ticks": "",
            "zerolinecolor": "white"
           },
           "zaxis": {
            "backgroundcolor": "#E5ECF6",
            "gridcolor": "white",
            "gridwidth": 2,
            "linecolor": "white",
            "showbackground": true,
            "ticks": "",
            "zerolinecolor": "white"
           }
          },
          "shapedefaults": {
           "line": {
            "color": "#2a3f5f"
           }
          },
          "ternary": {
           "aaxis": {
            "gridcolor": "white",
            "linecolor": "white",
            "ticks": ""
           },
           "baxis": {
            "gridcolor": "white",
            "linecolor": "white",
            "ticks": ""
           },
           "bgcolor": "#E5ECF6",
           "caxis": {
            "gridcolor": "white",
            "linecolor": "white",
            "ticks": ""
           }
          },
          "title": {
           "x": 0.05
          },
          "xaxis": {
           "automargin": true,
           "gridcolor": "white",
           "linecolor": "white",
           "ticks": "",
           "title": {
            "standoff": 15
           },
           "zerolinecolor": "white",
           "zerolinewidth": 2
          },
          "yaxis": {
           "automargin": true,
           "gridcolor": "white",
           "linecolor": "white",
           "ticks": "",
           "title": {
            "standoff": 15
           },
           "zerolinecolor": "white",
           "zerolinewidth": 2
          }
         }
        },
        "title": {
         "text": "Edad vs Tarifa por Supervivencia"
        },
        "xaxis": {
         "anchor": "y",
         "domain": [
          0,
          1
         ],
         "title": {
          "text": "Age"
         }
        },
        "yaxis": {
         "anchor": "x",
         "domain": [
          0,
          1
         ],
         "title": {
          "text": "Fare"
         }
        }
       }
      }
     },
     "metadata": {},
     "output_type": "display_data"
    }
   ],
   "source": [
    "# Interactivo\n",
    "\n",
    "fig = px.scatter(\n",
    "    df, x=\"Age\", y=\"Fare\", color=df[\"Survived\"].astype(str),\n",
    "    symbol=df[\"Sex\"] if \"Sex\" in df.columns else None,\n",
    "    hover_data=[\"Pclass\",\"Embarked\", \"Title\"],\n",
    "    title=\"Edad vs Tarifa por Supervivencia\"\n",
    ")\n",
    "fig.show()"
   ]
  },
  {
   "cell_type": "markdown",
   "id": "d75c0ef5",
   "metadata": {},
   "source": [
    "## 1.5 Análisis de Valores Faltantes"
   ]
  },
  {
   "cell_type": "code",
   "execution_count": 28,
   "id": "99a365a2",
   "metadata": {},
   "outputs": [
    {
     "data": {
      "image/png": "[encoded data removed]",
      "text/plain": [
       "<Figure size 800x400 with 1 Axes>"
      ]
     },
     "metadata": {},
     "output_type": "display_data"
    }
   ],
   "source": [
    "# Visualizar patrones de valores faltantes\n",
    "\n",
    "plt.figure(figsize=(8,4))\n",
    "sns.heatmap(df.isnull(), cbar=False, yticklabels=False, cmap=\"viridis\")\n",
    "plt.title(\"Mapa de Calor de Valores Faltantes\")\n",
    "plt.xlabel(\"Variables\"); plt.ylabel(\"Registros\")\n",
    "plt.show()"
   ]
  },
  {
   "cell_type": "code",
   "execution_count": 29,
   "id": "fd53aafa",
   "metadata": {},
   "outputs": [
    {
     "name": "stdout",
     "output_type": "stream",
     "text": [
      "Proporción de valores faltantes en Age por Clase:\n"
     ]
    },
    {
     "data": {
      "text/plain": [
       "Pclass\n",
       "1    0.138889\n",
       "2    0.059783\n",
       "3    0.276986\n",
       "Name: Age, dtype: float64"
      ]
     },
     "metadata": {},
     "output_type": "display_data"
    },
    {
     "name": "stdout",
     "output_type": "stream",
     "text": [
      "Proporción de valores faltantes en Age por Sexo:\n"
     ]
    },
    {
     "data": {
      "text/plain": [
       "Sex\n",
       "female    0.168790\n",
       "male      0.214905\n",
       "Name: Age, dtype: float64"
      ]
     },
     "metadata": {},
     "output_type": "display_data"
    },
    {
     "name": "stdout",
     "output_type": "stream",
     "text": [
      "Proporción de valores faltantes en Cabin por Clase:\n"
     ]
    },
    {
     "data": {
      "text/plain": [
       "Pclass\n",
       "1    0.185185\n",
       "2    0.913043\n",
       "3    0.975560\n",
       "Name: Cabin, dtype: float64"
      ]
     },
     "metadata": {},
     "output_type": "display_data"
    },
    {
     "name": "stdout",
     "output_type": "stream",
     "text": [
      "Proporción de valores faltantes en Cabin por Sexo:\n"
     ]
    },
    {
     "data": {
      "text/plain": [
       "Sex\n",
       "female    0.691083\n",
       "male      0.814558\n",
       "Name: Cabin, dtype: float64"
      ]
     },
     "metadata": {},
     "output_type": "display_data"
    }
   ],
   "source": [
    "# Analizar si los valores faltantes son aleatorios o sistemáticos\n",
    "\n",
    "print(\"Proporción de valores faltantes en Age por Clase:\")\n",
    "display(df.groupby(\"Pclass\")[\"Age\"].apply(lambda x: x.isnull().mean()))\n",
    "\n",
    "print(\"Proporción de valores faltantes en Age por Sexo:\")\n",
    "display(df.groupby(\"Sex\")[\"Age\"].apply(lambda x: x.isnull().mean()))\n",
    "\n",
    "print(\"Proporción de valores faltantes en Cabin por Clase:\")\n",
    "display(df.groupby(\"Pclass\")[\"Cabin\"].apply(lambda x: x.isnull().mean()))\n",
    "\n",
    "print(\"Proporción de valores faltantes en Cabin por Sexo:\")\n",
    "display(df.groupby(\"Sex\")[\"Cabin\"].apply(lambda x: x.isnull().mean()))"
   ]
  },
  {
   "cell_type": "markdown",
   "id": "4405d122",
   "metadata": {},
   "source": [
    "Comentarios sobre faltantes:\n",
    "\n",
    "- Age: No parece ser aleatorio ya que se concentran los datos faltantes en la 3a Clase y sobre todo en hombres.\n",
    "- Cabin: En la 2a y 3a clase parece que practicamente no se registraron cabinas en comparación con la 1a clase, lo cuál nos lleva a pensar que solo registraban a los de \"clase alta\"."
   ]
  }
 ],
 "metadata": {
  "kernelspec": {
   "display_name": "base",
   "language": "python",
   "name": "python3"
  },
  "language_info": {
   "codemirror_mode": {
    "name": "ipython",
    "version": 3
   },
   "file_extension": ".py",
   "mimetype": "text/x-python",
   "name": "python",
   "nbconvert_exporter": "python",
   "pygments_lexer": "ipython3",
   "version": "3.13.5"
  }
 },
 "nbformat": 4,
 "nbformat_minor": 5
}
